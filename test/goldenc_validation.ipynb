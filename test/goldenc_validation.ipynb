{
 "cells": [
  {
   "cell_type": "code",
   "execution_count": null,
   "metadata": {},
   "outputs": [],
   "source": [
    "import sys\n",
    "import os.path as osp\n",
    "sys.path\n",
    "sys.path.append('../../L1DeepMETv2/')\n",
    "from graphmetnetwork import GraphMetNetwork\n",
    "\n",
    "import numpy as np\n",
    "import torch\n",
    "import torch.nn as nn\n",
    "import torch.nn.functional as F\n",
    "\n",
    "from torch_geometric.utils import to_undirected\n",
    "from torch_cluster import radius_graph, knn_graph\n",
    "from torch_geometric.datasets import MNISTSuperpixels\n",
    "import torch_geometric.transforms as T\n",
    "from torch_geometric.data import DataLoader\n",
    "from tqdm import tqdm\n",
    "import model.net as net\n",
    "import model.data_loader as data_loader\n",
    "import utils"
   ]
  },
  {
   "cell_type": "markdown",
   "metadata": {},
   "source": [
    "### Load Parameters"
   ]
  },
  {
   "cell_type": "code",
   "execution_count": null,
   "metadata": {},
   "outputs": [],
   "source": [
    "data_dir = '../../L1DeepMETv2/data_ttbar'"
   ]
  },
  {
   "cell_type": "code",
   "execution_count": null,
   "metadata": {},
   "outputs": [],
   "source": [
    "dataloaders = data_loader.fetch_dataloader(data_dir = data_dir, batch_size=6, validation_split=.2)\n",
    "train_dl = dataloaders['train']\n",
    "test_dl = dataloaders['test']\n",
    "device = torch.device('cuda' if torch.cuda.is_available() else 'cpu')\n",
    "print('Training dataloader: {}, Test dataloader: {}'.format(len(train_dl), len(test_dl)))\n",
    "print(device)"
   ]
  },
  {
   "cell_type": "code",
   "execution_count": null,
   "metadata": {},
   "outputs": [],
   "source": [
    "test_data = None\n",
    "for cnt, test_data in enumerate(test_dl):\n",
    "    if cnt == 5:\n",
    "        break"
   ]
  },
  {
   "cell_type": "markdown",
   "metadata": {},
   "source": []
  },
  {
   "cell_type": "markdown",
   "metadata": {},
   "source": [
    "#### Load Tensor Parameters"
   ]
  },
  {
   "cell_type": "code",
   "execution_count": null,
   "metadata": {},
   "outputs": [],
   "source": [
    "n_features_cont = 6\n",
    "x_cont_test = test_data.x[:,:n_features_cont] .to(device)  # include puppi\n",
    "x_cat_test = test_data.x[:,n_features_cont:].long().to(device)\n",
    "etaphi_test = torch.cat([test_data.x[:, 3][:, None], test_data.x[:, 4][:, None]], dim=1).to(device=device)\n",
    "batch_test = test_data.batch.to(device)\n",
    "edge_index_test = radius_graph(etaphi_test, r=0.4, batch=batch_test, loop=False, max_num_neighbors=255).to(device=device)\n",
    "print(f'x_cont_test: {x_cont_test.shape}')\n",
    "print(f'x_cat_test: {x_cat_test.shape}')\n",
    "print(f'etaphi: {etaphi_test.shape}')\n",
    "print(f'batch: {batch_test.shape}')\n",
    "print(f'edge_index: {edge_index_test.shape}')"
   ]
  },
  {
   "cell_type": "markdown",
   "metadata": {},
   "source": [
    "#### Convert Tensor parameters to Numpy arrays"
   ]
  },
  {
   "cell_type": "code",
   "execution_count": null,
   "metadata": {},
   "outputs": [],
   "source": [
    "x_cont = np.ascontiguousarray(x_cont_test.squeeze(0).cpu().numpy())\n",
    "x_cat = np.ascontiguousarray(x_cat_test.squeeze(0).cpu().numpy())\n",
    "batch = np.ascontiguousarray(batch_test.squeeze(0).cpu().numpy())\n",
    "etaphi = etaphi_test.squeeze(0).cpu().numpy()\n",
    "edge_index = edge_index_test.squeeze(0).cpu().numpy().transpose()\n",
    "num_nodes = x_cont.shape[0]\n",
    "batch_size = batch.shape[0]\n",
    "print(f'Number of nodes: {num_nodes}')\n",
    "assert(num_nodes == batch_size)"
   ]
  },
  {
   "cell_type": "markdown",
   "metadata": {},
   "source": [
    "### Load the Torch Model"
   ]
  },
  {
   "cell_type": "code",
   "execution_count": null,
   "metadata": {},
   "outputs": [],
   "source": [
    "prefix = '../../L1DeepMETv2/ckpts_April30_scale_sigmoid'\n",
    "# Restore ckpts\n",
    "restore_ckpt = osp.join(prefix, 'last.pth.tar')\n",
    "norm = torch.tensor([1., 1., 1., 1., 1., 1.]).to(device=device)\n",
    "torch_model = net.Net(continuous_dim=6, categorical_dim=2 , norm=norm).to(device)\n",
    "print(torch_model)"
   ]
  },
  {
   "cell_type": "code",
   "execution_count": null,
   "metadata": {},
   "outputs": [],
   "source": [
    "param_restored_new = utils.load_checkpoint(restore_ckpt, torch_model)\n",
    "param_restored_new"
   ]
  },
  {
   "cell_type": "code",
   "execution_count": null,
   "metadata": {},
   "outputs": [],
   "source": [
    "weights = param_restored_new['state_dict']\n",
    "weights"
   ]
  },
  {
   "cell_type": "markdown",
   "metadata": {},
   "source": [
    "#### Get the weights"
   ]
  },
  {
   "cell_type": "code",
   "execution_count": null,
   "metadata": {},
   "outputs": [],
   "source": [
    "from collections import OrderedDict\n",
    "output_dir = \"weights_files/\"\n",
    "\n",
    "# Function to save the weights as binary files\n",
    "def save_weights_as_binary(weights_dict, output_dir):\n",
    "    for key, tensor in weights_dict.items():\n",
    "        # Convert the tensor to a NumPy array\n",
    "        np_array = tensor.cpu().numpy()\n",
    "\n",
    "        # Create a binary file name based on the tensor name\n",
    "        file_name = output_dir + key.replace('.', '_') + '.bin'\n",
    "\n",
    "        # Save the NumPy array as a binary file\n",
    "        np_array.tofile(file_name)"
   ]
  },
  {
   "cell_type": "code",
   "execution_count": null,
   "metadata": {},
   "outputs": [],
   "source": [
    "# Save all weights in the OrderedDict to binary files\n",
    "save_weights_as_binary(weights, output_dir)"
   ]
  },
  {
   "cell_type": "markdown",
   "metadata": {},
   "source": [
    "### Load the C++ Model"
   ]
  },
  {
   "cell_type": "code",
   "execution_count": null,
   "metadata": {},
   "outputs": [],
   "source": [
    "weights_dir = './weights_files'"
   ]
  },
  {
   "cell_type": "code",
   "execution_count": null,
   "metadata": {},
   "outputs": [],
   "source": [
    "# Create an instance of the C++ GraphMetNetwork model\n",
    "cmodel = GraphMetNetwork()\n",
    "\n",
    "# Load the weights\n",
    "cmodel.load_weights(weights)"
   ]
  },
  {
   "cell_type": "markdown",
   "metadata": {},
   "source": [
    "### Test the weights"
   ]
  },
  {
   "cell_type": "code",
   "execution_count": null,
   "metadata": {},
   "outputs": [],
   "source": [
    "torch_emb_cont_weights = param_restored_new['state_dict']['graphnet.embed_continuous.0.weight'].cpu().numpy()\n",
    "torch_emb_cont_weights.shape"
   ]
  },
  {
   "cell_type": "code",
   "execution_count": null,
   "metadata": {},
   "outputs": [],
   "source": [
    "cmodel_emb_cont_weights = cmodel.get_graphmet_embed_continuous_0_weight()\n",
    "cmodel_emb_cont_weights.shape"
   ]
  },
  {
   "cell_type": "code",
   "execution_count": null,
   "metadata": {},
   "outputs": [],
   "source": [
    "print(torch_emb_cont_weights)"
   ]
  },
  {
   "cell_type": "code",
   "execution_count": null,
   "metadata": {},
   "outputs": [],
   "source": [
    "print(cmodel_emb_cont_weights)"
   ]
  },
  {
   "cell_type": "code",
   "execution_count": null,
   "metadata": {},
   "outputs": [],
   "source": [
    "assert(np.allclose(torch_emb_cont_weights, cmodel_emb_cont_weights, atol=1e-5))"
   ]
  },
  {
   "cell_type": "markdown",
   "metadata": {},
   "source": [
    "### Run the Torch Model"
   ]
  },
  {
   "cell_type": "code",
   "execution_count": null,
   "metadata": {},
   "outputs": [],
   "source": [
    "results = torch_model(x_cont_test, x_cat_test, edge_index_test, batch_test)"
   ]
  },
  {
   "cell_type": "markdown",
   "metadata": {},
   "source": [
    "### Run the C++ Model"
   ]
  },
  {
   "cell_type": "code",
   "execution_count": null,
   "metadata": {},
   "outputs": [],
   "source": [
    "cmodel.GraphMetNetworkLayers(x_cont, x_cat, batch, num_nodes)"
   ]
  },
  {
   "cell_type": "markdown",
   "metadata": {},
   "source": [
    "#### Test Inputs"
   ]
  },
  {
   "cell_type": "code",
   "execution_count": null,
   "metadata": {},
   "outputs": [],
   "source": [
    "c_x_cont = cmodel.get_x_cont()\n",
    "c_x_cat = cmodel.get_x_cat()\n",
    "c_batch = cmodel.get_batch()\n",
    "c_num_nodes = cmodel.get_num_nodes()\n",
    "print(f'Shape of c_x_cont: {c_x_cont.shape}')\n",
    "print(f'Shape of c_x_cat: {c_x_cat.shape}')\n",
    "print(f'Shape of c_batch: {c_batch.shape}')\n",
    "print(f'Value of c_num_nodes: {c_num_nodes}')"
   ]
  },
  {
   "cell_type": "code",
   "execution_count": null,
   "metadata": {},
   "outputs": [],
   "source": [
    "# print(x_cont)\n",
    "assert(np.allclose(x_cont, c_x_cont, atol=1e-5))\n",
    "assert(np.allclose(x_cat, c_x_cat, atol=1e-5))\n",
    "assert(np.allclose(batch, c_batch, atol=1e-5))\n",
    "assert(np.allclose(num_nodes, c_num_nodes, atol=1e-5))\n",
    "\n"
   ]
  },
  {
   "cell_type": "markdown",
   "metadata": {},
   "source": [
    "#### Test Internal Variables"
   ]
  },
  {
   "cell_type": "code",
   "execution_count": null,
   "metadata": {},
   "outputs": [],
   "source": [
    "c_etaphi = cmodel.get_etaphi()\n",
    "print(etaphi.shape)\n",
    "print(c_etaphi.shape)\n",
    "print(type(etaphi))\n",
    "print(type(c_etaphi))\n",
    "are_almost_equal = np.allclose(etaphi, c_etaphi, atol=1e-5)\n",
    "assert(np.allclose(etaphi, c_etaphi, atol=1e-5))"
   ]
  },
  {
   "cell_type": "code",
   "execution_count": null,
   "metadata": {},
   "outputs": [],
   "source": [
    "c_num_edges = cmodel.get_num_edges()\n",
    "c_edge_index = cmodel.get_edge_index()\n",
    "edge_index_np = edge_index_test.squeeze(0).cpu().numpy().transpose()\n",
    "print(edge_index_np.shape)\n",
    "print(c_edge_index.shape)\n",
    "print(f'Number of C edges: {c_num_edges}')"
   ]
  },
  {
   "cell_type": "code",
   "execution_count": null,
   "metadata": {},
   "outputs": [],
   "source": [
    "print(edge_index_np)\n",
    "print(c_edge_index)"
   ]
  },
  {
   "cell_type": "markdown",
   "metadata": {},
   "source": [
    "#### Test Intermediate Variables"
   ]
  },
  {
   "cell_type": "code",
   "execution_count": null,
   "metadata": {},
   "outputs": [],
   "source": [
    "torch_emb_cont = torch_model.graphnet.emb_cont_.cpu().numpy()\n",
    "cmodel_emb_cont = cmodel.get_emb_cont()\n",
    "# np.testing.assert_allclose(torch_model.graphnet.emb_cont_.cpu().numpy(), cmodel.get_emb_cont(), rtol=1e-5)\n",
    "print(torch_emb_cont.shape)\n",
    "print(cmodel_emb_cont.shape)"
   ]
  },
  {
   "cell_type": "code",
   "execution_count": null,
   "metadata": {},
   "outputs": [],
   "source": [
    "print(torch_emb_cont)"
   ]
  },
  {
   "cell_type": "code",
   "execution_count": null,
   "metadata": {},
   "outputs": [],
   "source": [
    "print(cmodel_emb_cont)"
   ]
  },
  {
   "cell_type": "markdown",
   "metadata": {},
   "source": [
    "### Other Tests"
   ]
  },
  {
   "cell_type": "code",
   "execution_count": null,
   "metadata": {},
   "outputs": [],
   "source": [
    "import c_radius_graph\n",
    "\n",
    "# Example points in 2D space and their corresponding batch indices\n",
    "points = [[0.0, 0.0], [1.0, 1.0], [2.0, 2.0],  # Batch 0\n",
    "          [3.0, 3.0], [4.0, 4.0],              # Batch 1\n",
    "          [5.0, 5.0], [6.0, 6.0]]              # Batch 2\n",
    "batch_indices = [0, 0, 0, 1, 1, 2, 2]  # Batch assignments\n",
    "radius = 1.5"
   ]
  },
  {
   "cell_type": "code",
   "execution_count": null,
   "metadata": {},
   "outputs": [],
   "source": [
    "# Call the C++ function\n",
    "neighbors = c_radius_graph.find_neighbors_by_batch(points, batch_indices, radius)\n",
    "\n",
    "# Print neighbors\n",
    "for pair in neighbors:\n",
    "    print(f\"Point {pair[0]} is within radius of point {pair[1]}\")\n",
    "\n",
    "neighbors"
   ]
  },
  {
   "cell_type": "code",
   "execution_count": null,
   "metadata": {},
   "outputs": [],
   "source": [
    "points_tensor = torch.tensor(points)\n",
    "batch_tensor = torch.tensor(batch_indices)\n",
    "\n",
    "edge_index_pts = radius_graph(points_tensor, r=radius, batch=batch_tensor, loop=False, max_num_neighbors=255)"
   ]
  },
  {
   "cell_type": "code",
   "execution_count": null,
   "metadata": {},
   "outputs": [],
   "source": [
    "print(edge_index_pts)"
   ]
  },
  {
   "cell_type": "code",
   "execution_count": null,
   "metadata": {},
   "outputs": [],
   "source": [
    "# Example usage in Python\n",
    "import graphmetnetwork_bindings as gmn\n",
    "\n",
    "# Create an instance of the model\n",
    "model = gmn.GraphMetNetwork()\n",
    "\n",
    "# Load the weights\n",
    "model.load_weights(\"path_to_weights_file.txt\")\n",
    "\n",
    "# Now, you can run the model with input data\n",
    "for i, (x_cont, x_cat, edge_index, batch) in enumerate(dataloader):\n",
    "    num_nodes = x_cont.shape[0]\n",
    "\n",
    "    # Run the PyTorch model\n",
    "    with torch.no_grad():\n",
    "        output = torch_model(x_cont.squeeze(0), x_cat.squeeze(0), edge_index.squeeze(0), batch.squeeze(0))\n",
    "\n",
    "    # Run the C++ model\n",
    "    model.GraphMetNetworkLayer(x_cont.squeeze(0).numpy(), x_cat.squeeze(0).numpy(), num_nodes, batch.squeeze(0).numpy())\n",
    "\n",
    "    # Compare intermediate values as before\n",
    "    np.testing.assert_allclose(torch_model._emb_cont.numpy(), model.get_emb_cont(), rtol=1e-5)\n",
    "    np.testing.assert_allclose(torch_model._emb_chrg.numpy(), model.get_emb_chrg(), rtol=1e-5)\n",
    "    np.testing.assert_allclose(torch_model._emb_pdg.numpy(), model.get_emb_pdg(), rtol=1e-5)\n",
    "    np.testing.assert_allclose(torch_model._emb_cat.numpy(), model.get_emb_cat(), rtol=1e-5)\n",
    "    np.testing.assert_allclose(torch_model._emb.numpy(), model.get_emb(), rtol=1e-5)\n",
    "    np.testing.assert_allclose(torch_model._emb1.numpy(), model.get_emb1(), rtol=1e-5)\n",
    "    np.testing.assert_allclose(torch_model._emb2.numpy(), model.get_emb2(), rtol=1e-5)\n",
    "    np.testing.assert_allclose(output.numpy(), model.get_output(), rtol=1e-5)\n"
   ]
  }
 ],
 "metadata": {
  "kernelspec": {
   "display_name": "deepmet",
   "language": "python",
   "name": "python3"
  },
  "language_info": {
   "codemirror_mode": {
    "name": "ipython",
    "version": 3
   },
   "file_extension": ".py",
   "mimetype": "text/x-python",
   "name": "python",
   "nbconvert_exporter": "python",
   "pygments_lexer": "ipython3",
   "version": "3.10.12"
  }
 },
 "nbformat": 4,
 "nbformat_minor": 2
}

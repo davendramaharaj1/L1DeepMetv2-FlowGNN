{
 "cells": [
  {
   "cell_type": "code",
   "execution_count": 1,
   "metadata": {},
   "outputs": [
    {
     "name": "stderr",
     "output_type": "stream",
     "text": [
      "/nethome/dvsm3/.conda/envs/deepmet/lib/python3.10/site-packages/tqdm/auto.py:21: TqdmWarning: IProgress not found. Please update jupyter and ipywidgets. See https://ipywidgets.readthedocs.io/en/stable/user_install.html\n",
      "  from .autonotebook import tqdm as notebook_tqdm\n"
     ]
    }
   ],
   "source": [
    "import os\n",
    "import shutil\n",
    "import sys\n",
    "import os.path as osp\n",
    "sys.path\n",
    "sys.path.append('../../L1DeepMETv2/')\n",
    "from graphmetnetwork import GraphMetNetwork\n",
    "\n",
    "import numpy as np\n",
    "import torch\n",
    "import torch.nn as nn\n",
    "import torch.nn.functional as F\n",
    "\n",
    "from torch_geometric.utils import to_undirected\n",
    "from torch_cluster import radius_graph, knn_graph\n",
    "from torch_geometric.datasets import MNISTSuperpixels\n",
    "import torch_geometric.transforms as T\n",
    "from torch_geometric.data import DataLoader\n",
    "from tqdm import tqdm\n",
    "import model.net as net\n",
    "import model.data_loader as data_loader\n",
    "import utils"
   ]
  },
  {
   "cell_type": "markdown",
   "metadata": {},
   "source": [
    "### Load Parameters"
   ]
  },
  {
   "cell_type": "code",
   "execution_count": 2,
   "metadata": {},
   "outputs": [],
   "source": [
    "data_dir = '../../L1DeepMETv2/data_ttbar'"
   ]
  },
  {
   "cell_type": "code",
   "execution_count": 3,
   "metadata": {},
   "outputs": [
    {
     "name": "stderr",
     "output_type": "stream",
     "text": [
      "Processing...\n",
      "0it [00:00, ?it/s]\n",
      "Done!\n"
     ]
    },
    {
     "name": "stdout",
     "output_type": "stream",
     "text": [
      "Split: 199708\n",
      "length of train/val data:  798834 199708\n",
      "Training dataloader: 133139, Test dataloader: 33285\n",
      "cuda\n"
     ]
    },
    {
     "name": "stderr",
     "output_type": "stream",
     "text": [
      "/nethome/dvsm3/.conda/envs/deepmet/lib/python3.10/site-packages/torch_geometric/deprecation.py:26: UserWarning: 'data.DataLoader' is deprecated, use 'loader.DataLoader' instead\n",
      "  warnings.warn(out)\n"
     ]
    }
   ],
   "source": [
    "dataloaders = data_loader.fetch_dataloader(data_dir = data_dir, batch_size=6, validation_split=.2)\n",
    "train_dl = dataloaders['train']\n",
    "test_dl = dataloaders['test']\n",
    "device = torch.device('cuda' if torch.cuda.is_available() else 'cpu')\n",
    "print('Training dataloader: {}, Test dataloader: {}'.format(len(train_dl), len(test_dl)))\n",
    "print(device)"
   ]
  },
  {
   "cell_type": "code",
   "execution_count": 4,
   "metadata": {},
   "outputs": [],
   "source": [
    "test_data = None\n",
    "for cnt, test_data in enumerate(test_dl):\n",
    "    if cnt == 5:\n",
    "        break"
   ]
  },
  {
   "cell_type": "markdown",
   "metadata": {},
   "source": []
  },
  {
   "cell_type": "markdown",
   "metadata": {},
   "source": [
    "#### Load Tensor Parameters"
   ]
  },
  {
   "cell_type": "code",
   "execution_count": 5,
   "metadata": {},
   "outputs": [
    {
     "name": "stderr",
     "output_type": "stream",
     "text": [
      "/nethome/dvsm3/.conda/envs/deepmet/lib/python3.10/site-packages/torch/cuda/__init__.py:146: UserWarning: \n",
      "NVIDIA RTX A6000 with CUDA capability sm_86 is not compatible with the current PyTorch installation.\n",
      "The current PyTorch install supports CUDA capabilities sm_37 sm_50 sm_60 sm_61 sm_70 sm_75 compute_37.\n",
      "If you want to use the NVIDIA RTX A6000 GPU with PyTorch, please check the instructions at https://pytorch.org/get-started/locally/\n",
      "\n",
      "  warnings.warn(incompatible_device_warn.format(device_name, capability, \" \".join(arch_list), device_name))\n"
     ]
    },
    {
     "name": "stdout",
     "output_type": "stream",
     "text": [
      "x_cont_test: torch.Size([267, 6])\n",
      "x_cat_test: torch.Size([267, 2])\n",
      "etaphi: torch.Size([267, 2])\n",
      "batch: torch.Size([267])\n",
      "edge_index: torch.Size([2, 1494])\n"
     ]
    }
   ],
   "source": [
    "n_features_cont = 6\n",
    "x_cont_test = test_data.x[:,:n_features_cont] .to(device)  # include puppi\n",
    "x_cat_test = test_data.x[:,n_features_cont:].long().to(device)\n",
    "etaphi_test = torch.cat([test_data.x[:, 3][:, None], test_data.x[:, 4][:, None]], dim=1).to(device=device)\n",
    "batch_test = test_data.batch.to(device)\n",
    "edge_index_test = radius_graph(etaphi_test, r=0.4, batch=batch_test, loop=False, max_num_neighbors=255).to(device=device)\n",
    "print(f'x_cont_test: {x_cont_test.shape}')\n",
    "print(f'x_cat_test: {x_cat_test.shape}')\n",
    "print(f'etaphi: {etaphi_test.shape}')\n",
    "print(f'batch: {batch_test.shape}')\n",
    "print(f'edge_index: {edge_index_test.shape}')"
   ]
  },
  {
   "cell_type": "markdown",
   "metadata": {},
   "source": [
    "#### Convert Tensor parameters to Numpy arrays"
   ]
  },
  {
   "cell_type": "code",
   "execution_count": 6,
   "metadata": {},
   "outputs": [
    {
     "name": "stdout",
     "output_type": "stream",
     "text": [
      "Number of nodes: 267\n"
     ]
    }
   ],
   "source": [
    "x_cont = np.ascontiguousarray(x_cont_test.squeeze(0).cpu().numpy())\n",
    "x_cat = np.ascontiguousarray(x_cat_test.squeeze(0).cpu().numpy())\n",
    "batch = np.ascontiguousarray(batch_test.squeeze(0).cpu().numpy())\n",
    "etaphi = etaphi_test.squeeze(0).cpu().numpy()\n",
    "edge_index = edge_index_test.squeeze(0).cpu().numpy().transpose()\n",
    "num_nodes = x_cont.shape[0]\n",
    "batch_size = batch.shape[0]\n",
    "print(f'Number of nodes: {num_nodes}')\n",
    "assert(num_nodes == batch_size)"
   ]
  },
  {
   "cell_type": "markdown",
   "metadata": {},
   "source": [
    "### Load the Torch Model"
   ]
  },
  {
   "cell_type": "code",
   "execution_count": 7,
   "metadata": {},
   "outputs": [
    {
     "name": "stdout",
     "output_type": "stream",
     "text": [
      "Net(\n",
      "  (graphnet): GraphMETNetwork(\n",
      "    (embed_charge): Embedding(3, 8)\n",
      "    (embed_pdgid): Embedding(7, 8)\n",
      "    (embed_continuous): Sequential(\n",
      "      (0): Linear(in_features=6, out_features=16, bias=True)\n",
      "      (1): ELU(alpha=1.0)\n",
      "    )\n",
      "    (embed_categorical): Sequential(\n",
      "      (0): Linear(in_features=16, out_features=16, bias=True)\n",
      "      (1): ELU(alpha=1.0)\n",
      "    )\n",
      "    (encode_all): Sequential(\n",
      "      (0): Linear(in_features=32, out_features=32, bias=True)\n",
      "      (1): ELU(alpha=1.0)\n",
      "    )\n",
      "    (bn_all): BatchNorm1d(32, eps=1e-05, momentum=0.1, affine=True, track_running_stats=True)\n",
      "    (conv_continuous): ModuleList(\n",
      "      (0): ModuleList(\n",
      "        (0): EdgeConv(nn=Sequential(\n",
      "          (0): Linear(in_features=64, out_features=32, bias=True)\n",
      "        ))\n",
      "        (1): BatchNorm1d(32, eps=1e-05, momentum=0.1, affine=True, track_running_stats=True)\n",
      "      )\n",
      "      (1): ModuleList(\n",
      "        (0): EdgeConv(nn=Sequential(\n",
      "          (0): Linear(in_features=64, out_features=32, bias=True)\n",
      "        ))\n",
      "        (1): BatchNorm1d(32, eps=1e-05, momentum=0.1, affine=True, track_running_stats=True)\n",
      "      )\n",
      "    )\n",
      "    (output): Sequential(\n",
      "      (0): Linear(in_features=32, out_features=16, bias=True)\n",
      "      (1): ELU(alpha=1.0)\n",
      "      (2): Linear(in_features=16, out_features=1, bias=True)\n",
      "    )\n",
      "  )\n",
      ")\n"
     ]
    },
    {
     "name": "stderr",
     "output_type": "stream",
     "text": [
      "/nethome/dvsm3/.conda/envs/deepmet/lib/python3.10/site-packages/torch_geometric/nn/conv/message_passing.py:988: UserWarning: 'EdgeConv.jittable' is deprecated and a no-op. Please remove its usage.\n",
      "  warnings.warn(f\"'{self.__class__.__name__}.jittable' is deprecated \"\n"
     ]
    }
   ],
   "source": [
    "prefix = '../../L1DeepMETv2/ckpts_April30_scale_sigmoid'\n",
    "restore_ckpt = osp.join(prefix, 'last.pth.tar')\n",
    "norm = torch.tensor([1., 1., 1., 1., 1., 1.]).to(device=device)\n",
    "torch_model = net.Net(continuous_dim=6, categorical_dim=2 , norm=norm).to(device)\n",
    "torch_model.eval()\n",
    "print(torch_model)"
   ]
  },
  {
   "cell_type": "markdown",
   "metadata": {},
   "source": [
    "#### Get the weights"
   ]
  },
  {
   "cell_type": "code",
   "execution_count": 8,
   "metadata": {},
   "outputs": [
    {
     "name": "stdout",
     "output_type": "stream",
     "text": [
      "OrderedDict([('graphnet.embed_charge.weight', tensor([[ 0.9152, -1.0589, -0.9910,  0.0120, -1.2543,  0.2998, -0.3684, -0.0260],\n",
      "        [ 1.1699, -1.1929, -0.4268, -0.7047, -0.3582,  0.5368,  1.0060, -0.7781],\n",
      "        [-1.1897, -0.7680,  0.9429,  0.2915, -0.2274, -1.3632,  0.6982,  0.4960]],\n",
      "       device='cuda:0')), ('graphnet.embed_pdgid.weight', tensor([[-2.0383, -0.3847, -0.2413,  0.9122, -0.4805,  0.2302, -0.4746,  0.9317],\n",
      "        [-0.4117,  1.3556,  0.8550,  0.9977, -0.1622,  1.0582, -0.3220, -0.1858],\n",
      "        [ 0.3344, -1.7237,  0.2500,  0.0249, -1.0838, -0.7614, -0.2512, -1.4239],\n",
      "        [-0.0926,  0.4536, -0.2328,  1.5914, -0.3767, -1.6118,  0.4281,  0.3517],\n",
      "        [-0.8126, -1.1399, -0.2381, -0.4232,  0.0113, -1.9791, -0.4646, -1.3267],\n",
      "        [ 0.1623,  0.1171, -0.4400,  0.8133, -1.5196,  2.1547,  1.1111, -1.5128],\n",
      "        [-2.0250,  0.8894,  1.1295, -1.7737, -1.0402, -1.3035, -0.5598, -0.0130]],\n",
      "       device='cuda:0')), ('graphnet.embed_continuous.0.weight', tensor([[-0.5198,  0.2914, -0.0195,  0.3422, -0.2245,  0.1846],\n",
      "        [-0.4170, -0.1938, -0.2800, -0.0356, -0.1603,  0.1396],\n",
      "        [-0.1805, -0.1111, -0.2351, -0.1149, -0.1347, -0.4671],\n",
      "        [-0.0910,  0.0320, -0.1111,  0.0798,  0.1879,  0.3672],\n",
      "        [-0.6301, -0.1794, -0.1667, -0.1458,  0.2014, -0.3199],\n",
      "        [ 0.3729, -0.0307,  0.0235, -0.0009,  0.2356, -0.4001],\n",
      "        [ 0.4726, -0.0510, -0.1412,  0.1718, -0.1133,  0.1767],\n",
      "        [ 0.0455, -0.0182,  0.0487,  0.1988,  0.2355,  0.2938],\n",
      "        [-0.4597, -0.1802, -0.3717, -0.1472, -0.2679,  0.3283],\n",
      "        [ 0.1232, -0.3369, -0.2100, -0.1797, -0.0018, -0.0094],\n",
      "        [ 0.1715, -0.1470,  0.1426,  0.0312,  0.2539,  0.0015],\n",
      "        [-0.3559,  0.0914,  0.3528,  0.0387, -0.0992, -0.1014],\n",
      "        [ 0.0626, -0.3333, -0.3364,  0.2583, -0.2236,  0.3076],\n",
      "        [-0.3306,  0.0552, -0.1572, -0.3771,  0.0157, -0.1987],\n",
      "        [-0.5702,  0.0018, -0.0113,  0.0562,  0.0509,  0.2252],\n",
      "        [-0.1714, -0.1777, -0.0817,  0.4233,  0.2242,  0.0200]],\n",
      "       device='cuda:0')), ('graphnet.embed_continuous.0.bias', tensor([-0.0312, -0.0513,  0.0871, -0.4233,  0.3713,  0.3164, -0.2843, -0.0918,\n",
      "        -0.2188,  0.1339, -0.3240, -0.1274,  0.3631, -0.1676,  0.0605, -0.1710],\n",
      "       device='cuda:0')), ('graphnet.embed_categorical.0.weight', tensor([[-0.0787, -0.0563, -0.1187, -0.0364,  0.0204, -0.0530, -0.0219, -0.0296,\n",
      "         -0.2251, -0.2356,  0.0370, -0.0782, -0.1382,  0.1767, -0.0165,  0.2262],\n",
      "        [-0.0575, -0.1516, -0.0365,  0.0038,  0.0891, -0.0344, -0.1733, -0.1619,\n",
      "          0.1107, -0.0988, -0.1742, -0.2053,  0.0889, -0.0024,  0.2635,  0.0226],\n",
      "        [ 0.2004, -0.1992, -0.1722,  0.1961, -0.0091,  0.1812, -0.1146,  0.1062,\n",
      "         -0.0154, -0.0732, -0.0107, -0.1211, -0.2591, -0.1848, -0.0331, -0.1862],\n",
      "        [-0.1694,  0.1556,  0.0168, -0.2313,  0.1960,  0.2253,  0.0212, -0.1933,\n",
      "          0.2024,  0.0875,  0.2323, -0.2126,  0.0847,  0.2396, -0.1411,  0.1251],\n",
      "        [ 0.0096, -0.0461, -0.1193, -0.1401,  0.2030,  0.0507, -0.0611,  0.1324,\n",
      "          0.0453, -0.1501, -0.0281, -0.1880, -0.0830,  0.1241,  0.0882, -0.1818],\n",
      "        [ 0.2564,  0.0326,  0.0949,  0.1497, -0.1188, -0.0616,  0.2600, -0.0207,\n",
      "          0.1580,  0.1504,  0.0013, -0.2296,  0.1014,  0.1114, -0.2033,  0.0620],\n",
      "        [ 0.0681, -0.0902,  0.0503,  0.1344, -0.0446, -0.2366, -0.0779, -0.1133,\n",
      "          0.1727, -0.0132,  0.2520, -0.2005, -0.1813, -0.0109,  0.1670,  0.1771],\n",
      "        [ 0.1508,  0.1879,  0.0886,  0.0426,  0.1693, -0.1343,  0.0458, -0.1371,\n",
      "         -0.2286,  0.0853, -0.1171,  0.2315, -0.1872, -0.1182,  0.2166,  0.0972],\n",
      "        [ 0.1155,  0.1152, -0.2222, -0.0766,  0.0640, -0.2301, -0.0113,  0.1842,\n",
      "         -0.2519,  0.2597, -0.0399, -0.1806, -0.2088,  0.0780,  0.1366,  0.1855],\n",
      "        [ 0.0719,  0.0393,  0.0571, -0.0977, -0.0489,  0.2211, -0.0098,  0.0823,\n",
      "          0.1218, -0.0125,  0.0650, -0.2163,  0.2223,  0.0123, -0.1171, -0.1069],\n",
      "        [-0.0420,  0.0205, -0.0244,  0.1441, -0.0200, -0.0795,  0.0024,  0.2159,\n",
      "          0.1760,  0.1429,  0.0565, -0.1157, -0.0979,  0.1854,  0.0518, -0.2142],\n",
      "        [-0.0606,  0.0532, -0.1870,  0.1019,  0.1149,  0.1593,  0.0366, -0.2269,\n",
      "          0.0499, -0.1661, -0.1157, -0.1843,  0.1564, -0.0483,  0.1760,  0.1629],\n",
      "        [-0.1917, -0.2454, -0.1746,  0.0616, -0.1043, -0.1977, -0.0618,  0.1129,\n",
      "         -0.0261,  0.2283,  0.2088,  0.0397, -0.1768,  0.0630, -0.1193,  0.1926],\n",
      "        [ 0.0132,  0.1654,  0.1472,  0.0180, -0.2582,  0.2016, -0.0596, -0.1718,\n",
      "         -0.1537,  0.2106,  0.1356, -0.0096,  0.0643,  0.0652, -0.1648,  0.2329],\n",
      "        [-0.1621, -0.0787, -0.1285, -0.1518, -0.0752, -0.0572,  0.1987,  0.0454,\n",
      "          0.1367,  0.1637, -0.1557,  0.0120,  0.0559,  0.1623,  0.0850, -0.0030],\n",
      "        [ 0.2437, -0.1343,  0.0039, -0.1591,  0.1778,  0.2414, -0.2237, -0.0078,\n",
      "         -0.1415, -0.0833, -0.1674, -0.0289, -0.1771,  0.1508, -0.1112, -0.1199]],\n",
      "       device='cuda:0')), ('graphnet.embed_categorical.0.bias', tensor([ 0.0177,  0.0115, -0.2634,  0.1663, -0.0457, -0.1453, -0.1966,  0.2019,\n",
      "         0.1508,  0.1544, -0.2295,  0.0437, -0.0749, -0.0473,  0.1372,  0.2396],\n",
      "       device='cuda:0')), ('graphnet.encode_all.0.weight', tensor([[-0.0824,  0.1002,  0.1671,  ..., -0.0405, -0.0306, -0.0481],\n",
      "        [ 0.0017,  0.1078, -0.1271,  ..., -0.1374,  0.1322,  0.0902],\n",
      "        [ 0.1826, -0.1251, -0.0991,  ...,  0.0467, -0.1638, -0.0425],\n",
      "        ...,\n",
      "        [ 0.0923, -0.0543, -0.0378,  ...,  0.1686,  0.1135, -0.0553],\n",
      "        [-0.1540, -0.0217,  0.0828,  ...,  0.0877,  0.0866,  0.0072],\n",
      "        [-0.1034, -0.0528, -0.0888,  ..., -0.0109, -0.0097, -0.1030]],\n",
      "       device='cuda:0')), ('graphnet.encode_all.0.bias', tensor([ 0.0819,  0.0416,  0.3016,  0.1200, -0.0896, -0.0943, -0.1135,  0.0494,\n",
      "         0.1300,  0.1831, -0.1369, -0.1985, -0.0027, -0.1722, -0.1303, -0.0850,\n",
      "         0.0559,  0.0876, -0.1927,  0.1093,  0.1183,  0.0760,  0.0119,  0.0898,\n",
      "         0.0099,  0.2143, -0.0117,  0.0417, -0.1255,  0.1992,  0.0699,  0.1225],\n",
      "       device='cuda:0')), ('graphnet.bn_all.weight', tensor([0.9923, 0.9594, 0.9537, 1.0028, 1.1002, 1.0385, 1.0134, 0.9704, 1.0419,\n",
      "        0.9487, 0.9355, 0.9831, 1.0129, 0.9872, 1.0009, 0.9825, 1.0314, 0.9836,\n",
      "        1.0089, 0.9738, 0.9830, 0.9930, 1.0456, 0.9889, 1.0427, 1.0131, 1.0451,\n",
      "        1.0025, 0.9616, 0.9886, 0.9647, 0.9468], device='cuda:0')), ('graphnet.bn_all.bias', tensor([ 0.0294, -0.1186,  0.1331,  0.1048,  0.0914,  0.0490, -0.1401,  0.1369,\n",
      "        -0.1369, -0.0663,  0.1817,  0.0695, -0.1274,  0.1742, -0.1426, -0.1760,\n",
      "        -0.1800, -0.0671,  0.1306, -0.1225,  0.1487,  0.2012,  0.0886, -0.1728,\n",
      "         0.0197,  0.2282,  0.0185, -0.1782,  0.1252, -0.1191, -0.0005,  0.2215],\n",
      "       device='cuda:0')), ('graphnet.bn_all.running_mean', tensor([ 0.1706, -0.0297,  0.3226,  0.2559, -0.0447,  0.0964, -0.2841,  0.1077,\n",
      "         0.0779,  0.1106, -0.3209, -0.2656,  0.2375, -0.1043, -0.0970,  0.0286,\n",
      "        -0.0470,  0.0776, -0.2384,  0.0796,  0.0924,  0.5141,  0.0160,  0.1758,\n",
      "         0.0478,  0.0885,  0.1992,  0.0821, -0.0447,  0.4201,  0.1252,  0.1072],\n",
      "       device='cuda:0')), ('graphnet.bn_all.running_var', tensor([0.0807, 0.0060, 0.0292, 0.0206, 0.0027, 0.0244, 0.0203, 0.0400, 0.0219,\n",
      "        0.0466, 0.0058, 0.0196, 0.0438, 0.0097, 0.0335, 0.0225, 0.0029, 0.0157,\n",
      "        0.0498, 0.0556, 0.0656, 0.0396, 0.0122, 0.0478, 0.0439, 0.0479, 0.0034,\n",
      "        0.0210, 0.0143, 0.0307, 0.0315, 0.0655], device='cuda:0')), ('graphnet.bn_all.num_batches_tracked', tensor(1547768, device='cuda:0')), ('graphnet.conv_continuous.0.0.nn.0.weight', tensor([[-0.0572, -0.0712, -0.0804,  ..., -0.0655, -0.1202, -0.1024],\n",
      "        [ 0.0914,  0.0417,  0.0410,  ...,  0.0621,  0.0243, -0.0179],\n",
      "        [-0.0631,  0.0470, -0.0616,  ...,  0.0208,  0.0840, -0.0131],\n",
      "        ...,\n",
      "        [-0.0438,  0.0505, -0.1280,  ..., -0.1271, -0.0480, -0.0774],\n",
      "        [ 0.1099,  0.0429, -0.0642,  ...,  0.0995,  0.0639, -0.0300],\n",
      "        [ 0.0573, -0.1065,  0.0176,  ...,  0.1028, -0.0480, -0.1150]],\n",
      "       device='cuda:0')), ('graphnet.conv_continuous.0.0.nn.0.bias', tensor([-0.1704, -0.0006,  0.0746,  0.1750,  0.0991,  0.0825, -0.0736,  0.1520,\n",
      "        -0.2383, -0.1679,  0.1877,  0.1133,  0.0496,  0.1732, -0.0173, -0.1551,\n",
      "         0.0876, -0.0205,  0.1291,  0.0257,  0.1774,  0.0649,  0.0647,  0.0317,\n",
      "        -0.1880,  0.0367, -0.1064, -0.1111,  0.0097, -0.0227, -0.0777,  0.0660],\n",
      "       device='cuda:0')), ('graphnet.conv_continuous.0.1.weight', tensor([1.0613, 1.0116, 1.0487, 0.9933, 1.0154, 1.0810, 1.0253, 1.0291, 1.0281,\n",
      "        1.0465, 0.9412, 1.0548, 1.1082, 1.0312, 1.0170, 1.0255, 1.0124, 0.9828,\n",
      "        1.0011, 1.0229, 1.0092, 1.0742, 1.0064, 1.0090, 1.0262, 1.0497, 1.0360,\n",
      "        1.0108, 1.0108, 1.0057, 1.0439, 0.9686], device='cuda:0')), ('graphnet.conv_continuous.0.1.bias', tensor([-0.0287, -0.1603,  0.1823,  0.1347,  0.1295,  0.0509, -0.1544,  0.1974,\n",
      "        -0.1716, -0.0694,  0.2191,  0.1133, -0.1371,  0.1720, -0.1636, -0.1867,\n",
      "        -0.1447, -0.0891,  0.1313, -0.1214,  0.1767,  0.2064,  0.1199, -0.1927,\n",
      "        -0.0022,  0.2186, -0.0260, -0.1692,  0.1487, -0.0623,  0.0181,  0.2237],\n",
      "       device='cuda:0')), ('graphnet.conv_continuous.0.1.running_mean', tensor([ 0.0630,  0.2241,  0.3400,  0.2675,  0.1893,  0.2180,  0.3376,  0.2844,\n",
      "         0.0558,  0.1802,  0.3598,  0.3026,  0.3303,  0.2022,  0.0700,  0.0928,\n",
      "         0.4512,  0.2077,  0.3137,  0.3514,  0.2163,  0.4595,  0.3335,  0.1816,\n",
      "        -0.0031,  0.4913,  0.1094,  0.1157,  0.3252,  0.1866,  0.0019,  0.3272],\n",
      "       device='cuda:0')), ('graphnet.conv_continuous.0.1.running_var', tensor([0.1196, 0.1893, 0.4683, 0.2620, 0.1410, 0.3270, 0.5172, 0.1104, 0.1125,\n",
      "        0.3054, 0.4895, 0.1548, 0.2282, 0.0951, 0.1421, 0.2600, 0.7066, 0.1930,\n",
      "        0.1766, 0.4946, 0.0816, 0.2979, 0.6663, 0.2055, 0.3287, 0.5137, 0.2063,\n",
      "        0.4251, 0.2645, 0.4067, 0.1502, 0.7304], device='cuda:0')), ('graphnet.conv_continuous.0.1.num_batches_tracked', tensor(1547768, device='cuda:0')), ('graphnet.conv_continuous.1.0.nn.0.weight', tensor([[-0.0720, -0.0866, -0.0367,  ...,  0.0486,  0.0093, -0.0275],\n",
      "        [-0.0118,  0.0290, -0.0501,  ...,  0.0166,  0.0183, -0.0175],\n",
      "        [ 0.0306,  0.0261,  0.0002,  ...,  0.1206, -0.0796, -0.0476],\n",
      "        ...,\n",
      "        [ 0.0428,  0.0372,  0.1029,  ...,  0.0164,  0.0603,  0.0139],\n",
      "        [ 0.0413, -0.0467, -0.1251,  ...,  0.0867, -0.0717,  0.0681],\n",
      "        [-0.1286,  0.0994,  0.0421,  ..., -0.0265,  0.0694,  0.0408]],\n",
      "       device='cuda:0')), ('graphnet.conv_continuous.1.0.nn.0.bias', tensor([-0.1454, -0.1933,  0.1318, -0.0242, -0.0554,  0.0439, -0.0753,  0.1040,\n",
      "        -0.2388,  0.0252, -0.1298,  0.0089,  0.1070, -0.0292, -0.1327, -0.0788,\n",
      "        -0.1675, -0.0735,  0.0325, -0.1196,  0.0891,  0.1010,  0.0253, -0.0781,\n",
      "        -0.1670, -0.0202, -0.0866, -0.0707, -0.0169, -0.1365,  0.1752,  0.0314],\n",
      "       device='cuda:0')), ('graphnet.conv_continuous.1.1.weight', tensor([1.1965, 1.2566, 1.1053, 1.0830, 1.1242, 1.1225, 1.1081, 1.1249, 1.0718,\n",
      "        1.0580, 1.1950, 1.1960, 1.0842, 1.0971, 1.0160, 1.0541, 1.1143, 1.0818,\n",
      "        1.1322, 1.0781, 1.0711, 1.1228, 1.0668, 1.0804, 1.1834, 1.1058, 1.2825,\n",
      "        1.0869, 1.1320, 1.0260, 0.9967, 1.0857], device='cuda:0')), ('graphnet.conv_continuous.1.1.bias', tensor([ 0.0052, -0.1752,  0.1841,  0.1443,  0.0983,  0.0150, -0.1401,  0.2052,\n",
      "        -0.1861, -0.1008,  0.3177,  0.1276, -0.1402,  0.1816, -0.1572, -0.2073,\n",
      "        -0.1772, -0.1478,  0.1647, -0.1150,  0.1594,  0.2058,  0.1336, -0.2053,\n",
      "        -0.0042,  0.1980, -0.0637, -0.1675,  0.1511, -0.1432,  0.0684,  0.2177],\n",
      "       device='cuda:0')), ('graphnet.conv_continuous.1.1.running_mean', tensor([-0.1168, -0.1603,  0.1748,  0.1794,  0.0709,  0.1779,  0.0395,  0.3390,\n",
      "         0.0147,  0.1149,  0.0883,  0.3052,  0.1736,  0.1574,  0.0164,  0.1730,\n",
      "         0.1222,  0.1048,  0.3430,  0.1092,  0.3576,  0.3486,  0.5608,  0.3145,\n",
      "        -0.2268,  0.2096,  0.1658,  0.1573,  0.2887,  0.1715,  0.7447,  0.2168],\n",
      "       device='cuda:0')), ('graphnet.conv_continuous.1.1.running_var', tensor([0.1029, 0.1057, 0.3594, 0.5108, 0.1587, 0.3606, 0.1509, 0.3542, 0.4352,\n",
      "        0.4158, 0.0926, 0.2904, 0.5329, 0.2763, 0.6401, 0.7127, 0.2649, 0.1717,\n",
      "        0.3497, 0.1531, 1.4177, 0.1628, 1.1111, 0.4315, 0.1891, 0.0838, 0.0897,\n",
      "        0.3203, 0.3620, 0.5244, 2.2843, 0.3078], device='cuda:0')), ('graphnet.conv_continuous.1.1.num_batches_tracked', tensor(1547768, device='cuda:0')), ('graphnet.output.0.weight', tensor([[-1.5599e-01, -1.3244e-02, -1.3670e-01, -5.6949e-02, -2.7375e-01,\n",
      "         -2.5336e-02, -1.0546e-01, -4.0593e-02,  1.2195e-01,  2.0914e-02,\n",
      "          8.1868e-02,  5.8809e-03, -3.5005e-02, -8.3066e-02,  1.0313e-01,\n",
      "          9.1293e-02,  4.8431e-02,  5.7066e-02,  7.5503e-02,  6.0517e-02,\n",
      "         -5.7531e-02,  7.3876e-03,  1.2300e-01, -3.0529e-02,  2.4837e-01,\n",
      "          1.1439e-01,  2.2638e-01,  1.8057e-01, -5.2733e-02,  1.6312e-01,\n",
      "         -2.9093e-02, -1.3805e-01],\n",
      "        [ 2.0522e-03, -1.2980e-01,  1.9843e-01,  1.5979e-01,  1.5782e-03,\n",
      "          2.2701e-01, -2.0787e-01,  2.8247e-01, -2.3325e-01, -2.9995e-01,\n",
      "          5.3057e-02,  2.2886e-01,  1.6938e-02,  1.7797e-01,  1.7411e-02,\n",
      "         -2.7790e-01, -8.9879e-02, -1.7873e-02,  3.2177e-01, -3.9112e-01,\n",
      "          2.2704e-01,  2.4911e-01, -6.3030e-02, -1.4372e-01,  1.5839e-01,\n",
      "          1.0155e-01,  3.9964e-01, -1.9504e-01,  1.9941e-01, -1.1548e-01,\n",
      "          5.4367e-02,  2.5947e-01],\n",
      "        [ 4.1090e-02,  3.9341e-02,  1.6147e-01,  1.9897e-01,  1.0743e-01,\n",
      "         -1.0116e-01,  9.1679e-02,  1.9156e-01,  2.2167e-02,  5.0456e-02,\n",
      "          7.8899e-02, -1.7079e-01, -1.1966e-01,  1.3530e-01, -1.6584e-01,\n",
      "         -1.2997e-01,  1.1125e-01, -6.5675e-02,  1.5639e-01,  1.2968e-01,\n",
      "          1.0776e-01,  1.0962e-01,  2.2358e-01, -1.2409e-01, -1.7797e-01,\n",
      "          1.6263e-01, -8.5739e-02,  4.8682e-02, -7.0963e-02,  1.0458e-02,\n",
      "          1.1131e-02,  8.7225e-02],\n",
      "        [-2.2126e-01, -3.3541e-01,  2.1148e-01,  4.2375e-02, -7.3712e-02,\n",
      "          1.3610e-01, -2.1809e-01,  1.4117e-01, -2.2810e-01, -1.8819e-01,\n",
      "          2.4607e-01,  3.7348e-01,  2.4842e-01,  4.3417e-01, -2.6597e-01,\n",
      "         -1.7069e-01, -1.6839e-01, -5.2772e-02,  3.4228e-01, -1.4041e-01,\n",
      "          9.0893e-02,  3.4902e-01, -8.7104e-02, -1.8302e-01, -5.1990e-02,\n",
      "          5.0805e-01,  2.0690e-01, -2.4281e-01,  2.6942e-01,  8.8062e-02,\n",
      "         -1.1052e-01,  1.2248e-01],\n",
      "        [ 5.8912e-02, -1.2960e-01, -8.0924e-03,  1.0797e-01,  5.7441e-02,\n",
      "          1.0048e-01, -2.6011e-02,  2.6538e-02,  1.7115e-01, -9.6650e-02,\n",
      "         -1.3975e-01, -1.8085e-01,  1.4362e-01, -6.2682e-02, -4.0193e-02,\n",
      "         -3.7618e-02, -1.5393e-02,  1.4534e-01,  1.1454e-01,  1.5886e-01,\n",
      "          1.6055e-01, -1.4832e-01, -4.9727e-02,  1.7731e-01, -1.6553e-01,\n",
      "         -5.3954e-02, -3.4738e-02, -3.8586e-03,  3.7578e-02, -5.9365e-02,\n",
      "         -4.8307e-03,  3.3420e-02],\n",
      "        [-2.9330e-01, -1.8035e-01,  1.7254e-01,  2.9704e-02,  2.4647e-02,\n",
      "          3.6587e-02, -1.6253e-01, -7.1142e-02,  1.2808e-01,  1.0927e-01,\n",
      "         -1.0437e-01, -4.8727e-02, -3.7278e-02,  2.2808e-01, -8.4573e-02,\n",
      "         -2.4996e-01, -2.6138e-01, -9.1159e-02, -3.4183e-02,  3.7001e-02,\n",
      "          1.3842e-01,  1.6883e-01, -5.2981e-02, -2.7565e-01, -5.9460e-02,\n",
      "          6.3458e-02,  7.5641e-02, -2.4266e-01,  1.7923e-01,  3.3595e-03,\n",
      "         -7.5836e-02, -2.6361e-02],\n",
      "        [-7.3452e-02, -3.5442e-01,  7.0410e-02,  4.9539e-02, -1.1002e-01,\n",
      "          9.2038e-02, -2.4782e-01,  4.9853e-02, -3.4224e-01,  9.3552e-03,\n",
      "          2.3987e-01,  1.0389e-01,  1.7373e-01,  3.7404e-01, -1.4854e-02,\n",
      "         -2.9908e-01, -2.9079e-01,  5.7824e-02,  1.3927e-03, -1.2550e-02,\n",
      "          2.2362e-01,  3.3901e-01,  7.7569e-02, -2.1281e-01, -2.4505e-01,\n",
      "          3.1785e-01,  1.8955e-01, -2.1132e-01,  2.7436e-01, -1.4065e-01,\n",
      "          7.0900e-02,  1.4314e-01],\n",
      "        [ 1.2304e-01,  4.2670e-02, -1.6342e-01, -3.3257e-01, -2.6892e-01,\n",
      "          2.0655e-01, -7.6296e-02, -1.9780e-01, -4.2058e-02,  9.8720e-02,\n",
      "          2.4260e-01, -6.8653e-02, -7.0552e-02, -1.8423e-01,  2.2140e-01,\n",
      "         -1.8069e-01, -3.9193e-01,  7.4422e-02, -1.2450e-01,  2.3678e-02,\n",
      "         -1.5111e-01,  4.3713e-02, -2.1691e-01, -7.1410e-02,  3.3251e-01,\n",
      "          7.2568e-02,  1.8064e-01,  6.0826e-02, -1.1438e-01, -5.3062e-02,\n",
      "         -2.7477e-02, -2.3022e-02],\n",
      "        [-1.1707e-01, -1.1344e-01, -1.8515e-01, -3.7956e-02,  2.0119e-01,\n",
      "          9.2630e-02,  7.3965e-03, -5.3228e-02,  8.9899e-02,  9.6625e-02,\n",
      "          9.7066e-02,  3.4623e-02, -8.4304e-03,  5.4420e-02,  4.1807e-02,\n",
      "          2.7775e-02,  1.5157e-01,  1.5959e-01, -1.1119e-02,  1.2004e-01,\n",
      "         -2.8626e-02,  4.9813e-02,  1.6595e-02,  1.6126e-01,  4.2604e-02,\n",
      "         -1.1485e-01, -9.5046e-04,  4.8445e-02,  2.1702e-05,  1.4019e-01,\n",
      "         -1.7640e-01,  1.7536e-01],\n",
      "        [-5.9261e-02, -2.0277e-02, -1.3439e-03,  5.7264e-03,  8.2752e-02,\n",
      "          5.3782e-02, -4.8103e-02, -2.5927e-02, -8.0256e-02,  1.5114e-01,\n",
      "         -1.1352e-01,  4.7293e-02,  1.4260e-01, -2.5008e-02,  1.4050e-01,\n",
      "          1.1484e-01,  3.5595e-02,  1.1344e-02, -4.3041e-02,  1.5411e-02,\n",
      "          8.4802e-02, -1.8654e-01, -2.2846e-01,  2.4324e-02, -9.2469e-02,\n",
      "          9.3957e-02,  1.5892e-01,  1.1066e-01, -1.4828e-01,  1.0546e-01,\n",
      "          1.4722e-01, -9.6509e-03],\n",
      "        [ 6.4302e-02, -1.7071e-01, -4.8383e-02, -2.0273e-01, -1.1446e-01,\n",
      "          1.5013e-01,  1.0172e-01, -1.1191e-02,  5.4274e-02, -3.0241e-02,\n",
      "         -5.0084e-02, -1.9140e-01,  9.5367e-03,  1.3870e-01,  9.3885e-02,\n",
      "         -2.2540e-02, -4.2487e-02, -6.3854e-02, -9.6144e-02,  1.1929e-02,\n",
      "         -7.0999e-02,  3.3783e-02, -2.0782e-02,  1.4875e-01,  1.4299e-01,\n",
      "         -2.1094e-02,  2.3498e-01,  7.6647e-03, -5.6564e-02,  6.4554e-02,\n",
      "          5.1093e-02, -4.6189e-02],\n",
      "        [ 6.1956e-02, -1.4332e-01,  6.0020e-02, -1.8207e-01, -8.4925e-02,\n",
      "          1.1589e-01,  1.6829e-01, -2.3386e-02, -5.4224e-03,  1.7902e-01,\n",
      "          9.3749e-02, -1.1386e-02,  1.4897e-02, -3.4069e-02, -2.3819e-02,\n",
      "          2.7106e-02,  7.7637e-02,  2.0315e-01, -1.8578e-02,  6.2269e-03,\n",
      "          1.2294e-01, -1.6897e-01, -3.0648e-02, -1.3427e-01, -8.5865e-02,\n",
      "         -1.5209e-01,  7.0122e-02,  1.8258e-01,  8.7959e-03,  2.0936e-01,\n",
      "          1.9659e-01,  1.1210e-01],\n",
      "        [ 2.3612e-01,  1.0247e-02, -7.1183e-02, -4.3291e-02,  1.0450e-01,\n",
      "          3.2396e-01, -1.9208e-01, -2.5001e-03, -7.7701e-02,  7.4952e-02,\n",
      "         -9.5868e-02,  1.7305e-01, -1.2406e-01,  1.8735e-01, -1.9968e-01,\n",
      "         -8.5916e-02, -6.3430e-03, -7.4598e-02,  2.9363e-01, -2.9919e-02,\n",
      "          1.8361e-01, -5.3581e-03,  8.8853e-02, -1.3254e-03,  3.0984e-01,\n",
      "          8.0149e-03,  1.4607e-01,  3.2092e-02,  1.4682e-01, -1.5072e-02,\n",
      "          1.8731e-01,  1.0454e-01],\n",
      "        [-9.2172e-02,  3.3645e-02, -2.2766e-01,  5.0822e-02,  9.9523e-02,\n",
      "          9.2717e-02,  7.8022e-02, -2.1060e-01, -7.2768e-02, -1.2609e-01,\n",
      "          2.2638e-02, -9.9392e-02,  1.9941e-02,  3.8977e-02,  1.6268e-01,\n",
      "         -1.0387e-01,  1.4506e-01,  1.8524e-01,  7.0657e-02,  5.3929e-02,\n",
      "          5.1589e-02,  1.3359e-01,  1.3966e-01, -8.2196e-02, -1.5192e-01,\n",
      "         -3.8124e-02,  6.1831e-03,  9.9824e-02, -6.6253e-02,  1.7459e-01,\n",
      "          1.0695e-01,  1.1999e-02],\n",
      "        [ 1.8863e-01,  1.2491e-01, -3.4440e-03,  8.0302e-02, -7.1904e-02,\n",
      "          4.3146e-02, -6.7346e-03,  5.5194e-02, -2.2000e-02,  1.5028e-01,\n",
      "         -3.3788e-02, -1.3236e-02, -5.0530e-02, -3.0306e-04,  1.0657e-01,\n",
      "          1.4551e-01,  8.5223e-02,  1.5866e-01,  1.0040e-01,  1.8225e-01,\n",
      "          3.2985e-02,  9.5781e-02,  1.0171e-01, -8.8423e-03, -1.0135e-01,\n",
      "         -6.2228e-02, -1.5066e-01, -8.2720e-02,  4.1512e-03, -1.1448e-01,\n",
      "         -1.3355e-01, -1.2150e-01],\n",
      "        [ 6.7922e-02,  1.2660e-03, -2.0317e-01, -2.9238e-01, -1.5208e-01,\n",
      "          2.1129e-01,  1.4550e-01,  6.6467e-02, -1.0763e-01,  8.9883e-02,\n",
      "          9.5132e-02, -1.8320e-01,  5.7835e-02, -2.0030e-03, -4.1549e-03,\n",
      "         -1.7533e-02,  1.1345e-01, -2.8151e-02, -1.0354e-01,  8.0778e-02,\n",
      "         -8.4691e-02, -8.9517e-02, -2.2098e-01,  1.2374e-01, -3.7925e-02,\n",
      "         -1.0231e-01,  2.3641e-01, -4.6626e-02,  1.1894e-01,  1.6920e-02,\n",
      "          4.3736e-03,  1.3202e-01]], device='cuda:0')), ('graphnet.output.0.bias', tensor([-0.1482,  0.2310,  0.1582,  0.2118, -0.1427,  0.2435,  0.0996, -0.2070,\n",
      "        -0.1553,  0.0136, -0.0458, -0.0912,  0.1787, -0.3149, -0.1577, -0.1590],\n",
      "       device='cuda:0')), ('graphnet.output.2.weight', tensor([[-0.2729,  0.3485,  0.2876,  0.4687, -0.1262,  0.2399,  0.4152, -0.4882,\n",
      "         -0.1926, -0.1931, -0.1232, -0.3861,  0.3304, -0.2170, -0.1341, -0.3201]],\n",
      "       device='cuda:0')), ('graphnet.output.2.bias', tensor([0.3963], device='cuda:0'))])\n"
     ]
    }
   ],
   "source": [
    "param_restored_new = utils.load_checkpoint(restore_ckpt, torch_model)\n",
    "weights_dict = param_restored_new['state_dict']\n",
    "print(weights_dict)"
   ]
  },
  {
   "cell_type": "code",
   "execution_count": 9,
   "metadata": {},
   "outputs": [],
   "source": [
    "output_dir = \"weights_files/\"\n",
    "\n",
    "# Check if the directory exists\n",
    "if os.path.exists(output_dir):\n",
    "    # Iterate over all the files in the directory\n",
    "    for filename in os.listdir(output_dir):\n",
    "        file_path = os.path.join(output_dir, filename)\n",
    "        try:\n",
    "            # Check if it's a file and delete it\n",
    "            if os.path.isfile(file_path) or os.path.islink(file_path):\n",
    "                os.unlink(file_path)\n",
    "            # If it's a directory, delete the directory and its contents\n",
    "            elif os.path.isdir(file_path):\n",
    "                shutil.rmtree(file_path)\n",
    "        except Exception as e:\n",
    "            print(f\"Failed to delete {file_path}. Reason: {e}\")\n",
    "else:\n",
    "    print(f\"Directory {output_dir} does not exist.\")\n",
    "\n",
    "\n",
    "# Function to save the weights as binary files\n",
    "def save_weights_as_binary(weights_dict, output_dir):\n",
    "    for key, tensor in weights_dict.items():\n",
    "        # Convert the tensor to a NumPy array\n",
    "        np_array = tensor.cpu().numpy()\n",
    "\n",
    "        # Create a binary file name based on the tensor name\n",
    "        file_name = output_dir + key.replace('.', '_') + '.bin'\n",
    "\n",
    "        # Save the NumPy array as a binary file\n",
    "        np_array.tofile(file_name)\n",
    "        \n",
    "# Save all weights in the OrderedDict to binary files\n",
    "save_weights_as_binary(weights_dict, output_dir)"
   ]
  },
  {
   "cell_type": "markdown",
   "metadata": {},
   "source": [
    "### Load the C++ Model"
   ]
  },
  {
   "cell_type": "code",
   "execution_count": 10,
   "metadata": {},
   "outputs": [],
   "source": [
    "# Create an instance of the C++ GraphMetNetwork model\n",
    "cmodel = GraphMetNetwork()\n",
    "\n",
    "# Load the weights\n",
    "cmodel.load_weights(output_dir)"
   ]
  },
  {
   "cell_type": "markdown",
   "metadata": {},
   "source": [
    "### Test the weights"
   ]
  },
  {
   "cell_type": "code",
   "execution_count": 11,
   "metadata": {},
   "outputs": [
    {
     "name": "stdout",
     "output_type": "stream",
     "text": [
      "Number of weights checked: 31\n"
     ]
    }
   ],
   "source": [
    "num_weights = 0\n",
    "for key, tensor in weights_dict.items():\n",
    "    # Convert the tensor to a NumPy array\n",
    "    np_array = tensor.cpu().numpy()\n",
    "\n",
    "    # Return cmodel function pointer to get the weight array\n",
    "    cmodel_weight_func_name = 'get_' + key.replace('.', '_')\n",
    "    # if (cmodel_weight_func_name == 'get_graphnet_bn_all_num_batches_tracked' or\n",
    "    #     cmodel_weight_func_name == 'get_graphnet_conv_continuous_0_1_num_batches_tracked' or\n",
    "    #     cmodel_weight_func_name == 'get_graphnet_conv_continuous_1_1_num_batches_tracked'):\n",
    "    #     continue\n",
    "    cmodel_weight_func = getattr(cmodel, cmodel_weight_func_name)\n",
    "    cmodel_weight_array = cmodel_weight_func()\n",
    "    \n",
    "    # Compare Torch model weight with Cmodel weight\n",
    "    assert(np.allclose(np_array, cmodel_weight_array, atol=1e-5)), f'cmodel.{cmodel_weight_func_name} returned the wrong weights'\n",
    "    # print(f'cmodel.{cmodel_weight_func_name} matches')\n",
    "    num_weights += 1\n",
    "\n",
    "print(f'Number of weights checked: {num_weights}')"
   ]
  },
  {
   "cell_type": "markdown",
   "metadata": {},
   "source": [
    "### Run the Torch Model"
   ]
  },
  {
   "cell_type": "code",
   "execution_count": 12,
   "metadata": {},
   "outputs": [],
   "source": [
    "results = torch_model(x_cont_test, x_cat_test, edge_index_test, batch_test)"
   ]
  },
  {
   "cell_type": "markdown",
   "metadata": {},
   "source": [
    "### Run the C++ Model"
   ]
  },
  {
   "cell_type": "code",
   "execution_count": 13,
   "metadata": {},
   "outputs": [],
   "source": [
    "cmodel.GraphMetNetworkLayers(x_cont, x_cat, batch, num_nodes)"
   ]
  },
  {
   "cell_type": "markdown",
   "metadata": {},
   "source": [
    "#### Test Inputs"
   ]
  },
  {
   "cell_type": "code",
   "execution_count": 14,
   "metadata": {},
   "outputs": [
    {
     "name": "stdout",
     "output_type": "stream",
     "text": [
      "Shape of c_x_cont: (267, 6)\n",
      "Shape of c_x_cat: (267, 2)\n",
      "Shape of c_batch: (267,)\n",
      "Value of c_num_nodes: 267\n"
     ]
    }
   ],
   "source": [
    "c_x_cont = cmodel.get_x_cont()\n",
    "c_x_cat = cmodel.get_x_cat()\n",
    "c_batch = cmodel.get_batch()\n",
    "c_num_nodes = cmodel.get_num_nodes()\n",
    "print(f'Shape of c_x_cont: {c_x_cont.shape}')\n",
    "print(f'Shape of c_x_cat: {c_x_cat.shape}')\n",
    "print(f'Shape of c_batch: {c_batch.shape}')\n",
    "print(f'Value of c_num_nodes: {c_num_nodes}')"
   ]
  },
  {
   "cell_type": "code",
   "execution_count": 15,
   "metadata": {},
   "outputs": [],
   "source": [
    "# print(x_cont)\n",
    "assert(np.allclose(x_cont, c_x_cont, atol=1e-5))\n",
    "assert(np.allclose(x_cat, c_x_cat, atol=1e-5))\n",
    "assert(np.allclose(batch, c_batch, atol=1e-5))\n",
    "assert(np.allclose(num_nodes, c_num_nodes, atol=1e-5))"
   ]
  },
  {
   "cell_type": "markdown",
   "metadata": {},
   "source": [
    "#### Test Internal Variables"
   ]
  },
  {
   "cell_type": "code",
   "execution_count": 16,
   "metadata": {},
   "outputs": [
    {
     "name": "stdout",
     "output_type": "stream",
     "text": [
      "(1494, 2)\n",
      "(1494, 2)\n",
      "Number of C edges: 1494\n"
     ]
    }
   ],
   "source": [
    "c_num_edges = cmodel.get_num_edges()\n",
    "c_edge_index = cmodel.get_edge_index()\n",
    "edge_index_np = edge_index_test.squeeze(0).cpu().numpy().transpose()\n",
    "c_etaphi = cmodel.get_etaphi()\n",
    "assert(np.allclose(etaphi, c_etaphi, atol=1e-5))\n",
    "print(edge_index_np.shape)\n",
    "print(c_edge_index.shape)\n",
    "print(f'Number of C edges: {c_num_edges}')"
   ]
  },
  {
   "cell_type": "markdown",
   "metadata": {},
   "source": [
    "#### Test Intermediate Variables"
   ]
  },
  {
   "cell_type": "code",
   "execution_count": 17,
   "metadata": {},
   "outputs": [
    {
     "ename": "AssertionError",
     "evalue": "\nNot equal to tolerance rtol=1e-05, atol=0\n\nMismatched elements: 6 / 4272 (0.14%)\nMax absolute difference: 1.9073486e-06\nMax relative difference: 0.000123\n x: array([[-1.      , -0.968301,  2.005721, ..., -0.997374, -1.      ,\n        -0.956466],\n       [-0.999936, -1.      , -0.999971, ..., -0.999973, -0.999997,...\n y: array([[-1.      , -0.968301,  2.005721, ..., -0.997374, -1.      ,\n        -0.956466],\n       [-0.999936, -1.      , -0.999971, ..., -0.999973, -0.999997,...",
     "output_type": "error",
     "traceback": [
      "\u001b[0;31m---------------------------------------------------------------------------\u001b[0m",
      "\u001b[0;31mAssertionError\u001b[0m                            Traceback (most recent call last)",
      "Cell \u001b[0;32mIn[17], line 2\u001b[0m\n\u001b[1;32m      1\u001b[0m \u001b[38;5;66;03m# Compare intermediate values as before\u001b[39;00m\n\u001b[0;32m----> 2\u001b[0m \u001b[43mnp\u001b[49m\u001b[38;5;241;43m.\u001b[39;49m\u001b[43mtesting\u001b[49m\u001b[38;5;241;43m.\u001b[39;49m\u001b[43massert_allclose\u001b[49m\u001b[43m(\u001b[49m\u001b[43mtorch_model\u001b[49m\u001b[38;5;241;43m.\u001b[39;49m\u001b[43mgraphnet\u001b[49m\u001b[38;5;241;43m.\u001b[39;49m\u001b[43memb_cont_\u001b[49m\u001b[38;5;241;43m.\u001b[39;49m\u001b[43mcpu\u001b[49m\u001b[43m(\u001b[49m\u001b[43m)\u001b[49m\u001b[38;5;241;43m.\u001b[39;49m\u001b[43mnumpy\u001b[49m\u001b[43m(\u001b[49m\u001b[43m)\u001b[49m\u001b[43m,\u001b[49m\u001b[43m \u001b[49m\u001b[43mcmodel\u001b[49m\u001b[38;5;241;43m.\u001b[39;49m\u001b[43mget_emb_cont\u001b[49m\u001b[43m(\u001b[49m\u001b[43m)\u001b[49m\u001b[43m,\u001b[49m\u001b[43m \u001b[49m\u001b[43mrtol\u001b[49m\u001b[38;5;241;43m=\u001b[39;49m\u001b[38;5;241;43m1e-5\u001b[39;49m\u001b[43m)\u001b[49m\n",
      "    \u001b[0;31m[... skipping hidden 1 frame]\u001b[0m\n",
      "File \u001b[0;32m~/.conda/envs/deepmet/lib/python3.10/contextlib.py:79\u001b[0m, in \u001b[0;36mContextDecorator.__call__.<locals>.inner\u001b[0;34m(*args, **kwds)\u001b[0m\n\u001b[1;32m     76\u001b[0m \u001b[38;5;129m@wraps\u001b[39m(func)\n\u001b[1;32m     77\u001b[0m \u001b[38;5;28;01mdef\u001b[39;00m \u001b[38;5;21minner\u001b[39m(\u001b[38;5;241m*\u001b[39margs, \u001b[38;5;241m*\u001b[39m\u001b[38;5;241m*\u001b[39mkwds):\n\u001b[1;32m     78\u001b[0m     \u001b[38;5;28;01mwith\u001b[39;00m \u001b[38;5;28mself\u001b[39m\u001b[38;5;241m.\u001b[39m_recreate_cm():\n\u001b[0;32m---> 79\u001b[0m         \u001b[38;5;28;01mreturn\u001b[39;00m \u001b[43mfunc\u001b[49m\u001b[43m(\u001b[49m\u001b[38;5;241;43m*\u001b[39;49m\u001b[43margs\u001b[49m\u001b[43m,\u001b[49m\u001b[43m \u001b[49m\u001b[38;5;241;43m*\u001b[39;49m\u001b[38;5;241;43m*\u001b[39;49m\u001b[43mkwds\u001b[49m\u001b[43m)\u001b[49m\n",
      "File \u001b[0;32m~/.conda/envs/deepmet/lib/python3.10/site-packages/numpy/testing/_private/utils.py:797\u001b[0m, in \u001b[0;36massert_array_compare\u001b[0;34m(comparison, x, y, err_msg, verbose, header, precision, equal_nan, equal_inf, strict)\u001b[0m\n\u001b[1;32m    793\u001b[0m         err_msg \u001b[38;5;241m+\u001b[39m\u001b[38;5;241m=\u001b[39m \u001b[38;5;124m'\u001b[39m\u001b[38;5;130;01m\\n\u001b[39;00m\u001b[38;5;124m'\u001b[39m \u001b[38;5;241m+\u001b[39m \u001b[38;5;124m'\u001b[39m\u001b[38;5;130;01m\\n\u001b[39;00m\u001b[38;5;124m'\u001b[39m\u001b[38;5;241m.\u001b[39mjoin(remarks)\n\u001b[1;32m    794\u001b[0m         msg \u001b[38;5;241m=\u001b[39m build_err_msg([ox, oy], err_msg,\n\u001b[1;32m    795\u001b[0m                             verbose\u001b[38;5;241m=\u001b[39mverbose, header\u001b[38;5;241m=\u001b[39mheader,\n\u001b[1;32m    796\u001b[0m                             names\u001b[38;5;241m=\u001b[39m(\u001b[38;5;124m'\u001b[39m\u001b[38;5;124mx\u001b[39m\u001b[38;5;124m'\u001b[39m, \u001b[38;5;124m'\u001b[39m\u001b[38;5;124my\u001b[39m\u001b[38;5;124m'\u001b[39m), precision\u001b[38;5;241m=\u001b[39mprecision)\n\u001b[0;32m--> 797\u001b[0m         \u001b[38;5;28;01mraise\u001b[39;00m \u001b[38;5;167;01mAssertionError\u001b[39;00m(msg)\n\u001b[1;32m    798\u001b[0m \u001b[38;5;28;01mexcept\u001b[39;00m \u001b[38;5;167;01mValueError\u001b[39;00m:\n\u001b[1;32m    799\u001b[0m     \u001b[38;5;28;01mimport\u001b[39;00m \u001b[38;5;21;01mtraceback\u001b[39;00m\n",
      "\u001b[0;31mAssertionError\u001b[0m: \nNot equal to tolerance rtol=1e-05, atol=0\n\nMismatched elements: 6 / 4272 (0.14%)\nMax absolute difference: 1.9073486e-06\nMax relative difference: 0.000123\n x: array([[-1.      , -0.968301,  2.005721, ..., -0.997374, -1.      ,\n        -0.956466],\n       [-0.999936, -1.      , -0.999971, ..., -0.999973, -0.999997,...\n y: array([[-1.      , -0.968301,  2.005721, ..., -0.997374, -1.      ,\n        -0.956466],\n       [-0.999936, -1.      , -0.999971, ..., -0.999973, -0.999997,..."
     ]
    }
   ],
   "source": [
    "# Compare intermediate values as before\n",
    "np.testing.assert_allclose(torch_model.graphnet.emb_cont_.cpu().numpy(), cmodel.get_emb_cont(), rtol=1e-5)"
   ]
  },
  {
   "cell_type": "code",
   "execution_count": 18,
   "metadata": {},
   "outputs": [],
   "source": [
    "np.testing.assert_allclose(torch_model.graphnet.emb_chrg_.cpu().numpy(), cmodel.get_emb_chrg(), rtol=1e-5)"
   ]
  },
  {
   "cell_type": "code",
   "execution_count": 19,
   "metadata": {},
   "outputs": [],
   "source": [
    "np.testing.assert_allclose(torch_model.graphnet._emb_pdg_.cpu().numpy(), cmodel.get_emb_pdg(), rtol=1e-5)"
   ]
  },
  {
   "cell_type": "code",
   "execution_count": 20,
   "metadata": {},
   "outputs": [
    {
     "ename": "AssertionError",
     "evalue": "\nNot equal to tolerance rtol=1e-05, atol=0\n\nMismatched elements: 3 / 4272 (0.0702%)\nMax absolute difference: 2.3841858e-07\nMax relative difference: 2.137216e-05\n x: array([[-0.266257, -0.23016 , -0.468719, ..., -0.358534,  0.351129,\n        -0.558314],\n       [ 0.125356,  0.067314,  1.219448, ..., -0.520794, -0.241082,...\n y: array([[-0.266257, -0.23016 , -0.468719, ..., -0.358534,  0.351129,\n        -0.558314],\n       [ 0.125356,  0.067314,  1.219449, ..., -0.520794, -0.241082,...",
     "output_type": "error",
     "traceback": [
      "\u001b[0;31m---------------------------------------------------------------------------\u001b[0m",
      "\u001b[0;31mAssertionError\u001b[0m                            Traceback (most recent call last)",
      "Cell \u001b[0;32mIn[20], line 1\u001b[0m\n\u001b[0;32m----> 1\u001b[0m \u001b[43mnp\u001b[49m\u001b[38;5;241;43m.\u001b[39;49m\u001b[43mtesting\u001b[49m\u001b[38;5;241;43m.\u001b[39;49m\u001b[43massert_allclose\u001b[49m\u001b[43m(\u001b[49m\u001b[43mtorch_model\u001b[49m\u001b[38;5;241;43m.\u001b[39;49m\u001b[43mgraphnet\u001b[49m\u001b[38;5;241;43m.\u001b[39;49m\u001b[43memb_cat_\u001b[49m\u001b[38;5;241;43m.\u001b[39;49m\u001b[43mcpu\u001b[49m\u001b[43m(\u001b[49m\u001b[43m)\u001b[49m\u001b[38;5;241;43m.\u001b[39;49m\u001b[43mnumpy\u001b[49m\u001b[43m(\u001b[49m\u001b[43m)\u001b[49m\u001b[43m,\u001b[49m\u001b[43m \u001b[49m\u001b[43mcmodel\u001b[49m\u001b[38;5;241;43m.\u001b[39;49m\u001b[43mget_emb_cat\u001b[49m\u001b[43m(\u001b[49m\u001b[43m)\u001b[49m\u001b[43m,\u001b[49m\u001b[43m \u001b[49m\u001b[43mrtol\u001b[49m\u001b[38;5;241;43m=\u001b[39;49m\u001b[38;5;241;43m1e-5\u001b[39;49m\u001b[43m)\u001b[49m\n",
      "    \u001b[0;31m[... skipping hidden 1 frame]\u001b[0m\n",
      "File \u001b[0;32m~/.conda/envs/deepmet/lib/python3.10/contextlib.py:79\u001b[0m, in \u001b[0;36mContextDecorator.__call__.<locals>.inner\u001b[0;34m(*args, **kwds)\u001b[0m\n\u001b[1;32m     76\u001b[0m \u001b[38;5;129m@wraps\u001b[39m(func)\n\u001b[1;32m     77\u001b[0m \u001b[38;5;28;01mdef\u001b[39;00m \u001b[38;5;21minner\u001b[39m(\u001b[38;5;241m*\u001b[39margs, \u001b[38;5;241m*\u001b[39m\u001b[38;5;241m*\u001b[39mkwds):\n\u001b[1;32m     78\u001b[0m     \u001b[38;5;28;01mwith\u001b[39;00m \u001b[38;5;28mself\u001b[39m\u001b[38;5;241m.\u001b[39m_recreate_cm():\n\u001b[0;32m---> 79\u001b[0m         \u001b[38;5;28;01mreturn\u001b[39;00m \u001b[43mfunc\u001b[49m\u001b[43m(\u001b[49m\u001b[38;5;241;43m*\u001b[39;49m\u001b[43margs\u001b[49m\u001b[43m,\u001b[49m\u001b[43m \u001b[49m\u001b[38;5;241;43m*\u001b[39;49m\u001b[38;5;241;43m*\u001b[39;49m\u001b[43mkwds\u001b[49m\u001b[43m)\u001b[49m\n",
      "File \u001b[0;32m~/.conda/envs/deepmet/lib/python3.10/site-packages/numpy/testing/_private/utils.py:797\u001b[0m, in \u001b[0;36massert_array_compare\u001b[0;34m(comparison, x, y, err_msg, verbose, header, precision, equal_nan, equal_inf, strict)\u001b[0m\n\u001b[1;32m    793\u001b[0m         err_msg \u001b[38;5;241m+\u001b[39m\u001b[38;5;241m=\u001b[39m \u001b[38;5;124m'\u001b[39m\u001b[38;5;130;01m\\n\u001b[39;00m\u001b[38;5;124m'\u001b[39m \u001b[38;5;241m+\u001b[39m \u001b[38;5;124m'\u001b[39m\u001b[38;5;130;01m\\n\u001b[39;00m\u001b[38;5;124m'\u001b[39m\u001b[38;5;241m.\u001b[39mjoin(remarks)\n\u001b[1;32m    794\u001b[0m         msg \u001b[38;5;241m=\u001b[39m build_err_msg([ox, oy], err_msg,\n\u001b[1;32m    795\u001b[0m                             verbose\u001b[38;5;241m=\u001b[39mverbose, header\u001b[38;5;241m=\u001b[39mheader,\n\u001b[1;32m    796\u001b[0m                             names\u001b[38;5;241m=\u001b[39m(\u001b[38;5;124m'\u001b[39m\u001b[38;5;124mx\u001b[39m\u001b[38;5;124m'\u001b[39m, \u001b[38;5;124m'\u001b[39m\u001b[38;5;124my\u001b[39m\u001b[38;5;124m'\u001b[39m), precision\u001b[38;5;241m=\u001b[39mprecision)\n\u001b[0;32m--> 797\u001b[0m         \u001b[38;5;28;01mraise\u001b[39;00m \u001b[38;5;167;01mAssertionError\u001b[39;00m(msg)\n\u001b[1;32m    798\u001b[0m \u001b[38;5;28;01mexcept\u001b[39;00m \u001b[38;5;167;01mValueError\u001b[39;00m:\n\u001b[1;32m    799\u001b[0m     \u001b[38;5;28;01mimport\u001b[39;00m \u001b[38;5;21;01mtraceback\u001b[39;00m\n",
      "\u001b[0;31mAssertionError\u001b[0m: \nNot equal to tolerance rtol=1e-05, atol=0\n\nMismatched elements: 3 / 4272 (0.0702%)\nMax absolute difference: 2.3841858e-07\nMax relative difference: 2.137216e-05\n x: array([[-0.266257, -0.23016 , -0.468719, ..., -0.358534,  0.351129,\n        -0.558314],\n       [ 0.125356,  0.067314,  1.219448, ..., -0.520794, -0.241082,...\n y: array([[-0.266257, -0.23016 , -0.468719, ..., -0.358534,  0.351129,\n        -0.558314],\n       [ 0.125356,  0.067314,  1.219449, ..., -0.520794, -0.241082,..."
     ]
    }
   ],
   "source": [
    "np.testing.assert_allclose(torch_model.graphnet.emb_cat_.cpu().numpy(), cmodel.get_emb_cat(), rtol=1e-5)"
   ]
  },
  {
   "cell_type": "code",
   "execution_count": 21,
   "metadata": {},
   "outputs": [
    {
     "ename": "AssertionError",
     "evalue": "\nNot equal to tolerance rtol=1e-05, atol=0\n\nMismatched elements: 34 / 8544 (0.398%)\nMax absolute difference: 1.4305115e-06\nMax relative difference: 0.00036407\n x: array([[-0.266241, -0.231575,  0.549079, ..., -0.165303, -0.911824,\n        -0.921602],\n       [ 1.704721, -0.755376,  0.741442, ...,  0.621892, -0.904935,...\n y: array([[-0.266241, -0.231575,  0.549079, ..., -0.165303, -0.911824,\n        -0.921602],\n       [ 1.704721, -0.755376,  0.741442, ...,  0.621892, -0.904935,...",
     "output_type": "error",
     "traceback": [
      "\u001b[0;31m---------------------------------------------------------------------------\u001b[0m",
      "\u001b[0;31mAssertionError\u001b[0m                            Traceback (most recent call last)",
      "Cell \u001b[0;32mIn[21], line 1\u001b[0m\n\u001b[0;32m----> 1\u001b[0m \u001b[43mnp\u001b[49m\u001b[38;5;241;43m.\u001b[39;49m\u001b[43mtesting\u001b[49m\u001b[38;5;241;43m.\u001b[39;49m\u001b[43massert_allclose\u001b[49m\u001b[43m(\u001b[49m\u001b[43mtorch_model\u001b[49m\u001b[38;5;241;43m.\u001b[39;49m\u001b[43mgraphnet\u001b[49m\u001b[38;5;241;43m.\u001b[39;49m\u001b[43mencode_all_\u001b[49m\u001b[38;5;241;43m.\u001b[39;49m\u001b[43mcpu\u001b[49m\u001b[43m(\u001b[49m\u001b[43m)\u001b[49m\u001b[38;5;241;43m.\u001b[39;49m\u001b[43mnumpy\u001b[49m\u001b[43m(\u001b[49m\u001b[43m)\u001b[49m\u001b[43m,\u001b[49m\u001b[43m \u001b[49m\u001b[43mcmodel\u001b[49m\u001b[38;5;241;43m.\u001b[39;49m\u001b[43mget_encode_all\u001b[49m\u001b[43m(\u001b[49m\u001b[43m)\u001b[49m\u001b[43m,\u001b[49m\u001b[43m \u001b[49m\u001b[43mrtol\u001b[49m\u001b[38;5;241;43m=\u001b[39;49m\u001b[38;5;241;43m1e-5\u001b[39;49m\u001b[43m)\u001b[49m\n",
      "    \u001b[0;31m[... skipping hidden 1 frame]\u001b[0m\n",
      "File \u001b[0;32m~/.conda/envs/deepmet/lib/python3.10/contextlib.py:79\u001b[0m, in \u001b[0;36mContextDecorator.__call__.<locals>.inner\u001b[0;34m(*args, **kwds)\u001b[0m\n\u001b[1;32m     76\u001b[0m \u001b[38;5;129m@wraps\u001b[39m(func)\n\u001b[1;32m     77\u001b[0m \u001b[38;5;28;01mdef\u001b[39;00m \u001b[38;5;21minner\u001b[39m(\u001b[38;5;241m*\u001b[39margs, \u001b[38;5;241m*\u001b[39m\u001b[38;5;241m*\u001b[39mkwds):\n\u001b[1;32m     78\u001b[0m     \u001b[38;5;28;01mwith\u001b[39;00m \u001b[38;5;28mself\u001b[39m\u001b[38;5;241m.\u001b[39m_recreate_cm():\n\u001b[0;32m---> 79\u001b[0m         \u001b[38;5;28;01mreturn\u001b[39;00m \u001b[43mfunc\u001b[49m\u001b[43m(\u001b[49m\u001b[38;5;241;43m*\u001b[39;49m\u001b[43margs\u001b[49m\u001b[43m,\u001b[49m\u001b[43m \u001b[49m\u001b[38;5;241;43m*\u001b[39;49m\u001b[38;5;241;43m*\u001b[39;49m\u001b[43mkwds\u001b[49m\u001b[43m)\u001b[49m\n",
      "File \u001b[0;32m~/.conda/envs/deepmet/lib/python3.10/site-packages/numpy/testing/_private/utils.py:797\u001b[0m, in \u001b[0;36massert_array_compare\u001b[0;34m(comparison, x, y, err_msg, verbose, header, precision, equal_nan, equal_inf, strict)\u001b[0m\n\u001b[1;32m    793\u001b[0m         err_msg \u001b[38;5;241m+\u001b[39m\u001b[38;5;241m=\u001b[39m \u001b[38;5;124m'\u001b[39m\u001b[38;5;130;01m\\n\u001b[39;00m\u001b[38;5;124m'\u001b[39m \u001b[38;5;241m+\u001b[39m \u001b[38;5;124m'\u001b[39m\u001b[38;5;130;01m\\n\u001b[39;00m\u001b[38;5;124m'\u001b[39m\u001b[38;5;241m.\u001b[39mjoin(remarks)\n\u001b[1;32m    794\u001b[0m         msg \u001b[38;5;241m=\u001b[39m build_err_msg([ox, oy], err_msg,\n\u001b[1;32m    795\u001b[0m                             verbose\u001b[38;5;241m=\u001b[39mverbose, header\u001b[38;5;241m=\u001b[39mheader,\n\u001b[1;32m    796\u001b[0m                             names\u001b[38;5;241m=\u001b[39m(\u001b[38;5;124m'\u001b[39m\u001b[38;5;124mx\u001b[39m\u001b[38;5;124m'\u001b[39m, \u001b[38;5;124m'\u001b[39m\u001b[38;5;124my\u001b[39m\u001b[38;5;124m'\u001b[39m), precision\u001b[38;5;241m=\u001b[39mprecision)\n\u001b[0;32m--> 797\u001b[0m         \u001b[38;5;28;01mraise\u001b[39;00m \u001b[38;5;167;01mAssertionError\u001b[39;00m(msg)\n\u001b[1;32m    798\u001b[0m \u001b[38;5;28;01mexcept\u001b[39;00m \u001b[38;5;167;01mValueError\u001b[39;00m:\n\u001b[1;32m    799\u001b[0m     \u001b[38;5;28;01mimport\u001b[39;00m \u001b[38;5;21;01mtraceback\u001b[39;00m\n",
      "\u001b[0;31mAssertionError\u001b[0m: \nNot equal to tolerance rtol=1e-05, atol=0\n\nMismatched elements: 34 / 8544 (0.398%)\nMax absolute difference: 1.4305115e-06\nMax relative difference: 0.00036407\n x: array([[-0.266241, -0.231575,  0.549079, ..., -0.165303, -0.911824,\n        -0.921602],\n       [ 1.704721, -0.755376,  0.741442, ...,  0.621892, -0.904935,...\n y: array([[-0.266241, -0.231575,  0.549079, ..., -0.165303, -0.911824,\n        -0.921602],\n       [ 1.704721, -0.755376,  0.741442, ...,  0.621892, -0.904935,..."
     ]
    }
   ],
   "source": [
    "np.testing.assert_allclose(torch_model.graphnet.encode_all_.cpu().numpy(), cmodel.get_encode_all(), rtol=1e-5)"
   ]
  },
  {
   "cell_type": "code",
   "execution_count": 22,
   "metadata": {},
   "outputs": [
    {
     "ename": "AssertionError",
     "evalue": "\nNot equal to tolerance rtol=1e-05, atol=0\n\nMismatched elements: 42 / 8544 (0.492%)\nMax absolute difference: 3.0517578e-05\nMax relative difference: 0.0010149\n x: array([[-1.496144, -2.618178,  1.397834, ..., -3.41971 , -5.633175,\n        -3.583886],\n       [ 5.387336, -9.104922,  2.471953, ...,  1.018879, -5.595757,...\n y: array([[-1.496144, -2.618177,  1.397833, ..., -3.41971 , -5.633175,\n        -3.583886],\n       [ 5.387336, -9.104922,  2.471954, ...,  1.018879, -5.595757,...",
     "output_type": "error",
     "traceback": [
      "\u001b[0;31m---------------------------------------------------------------------------\u001b[0m",
      "\u001b[0;31mAssertionError\u001b[0m                            Traceback (most recent call last)",
      "Cell \u001b[0;32mIn[22], line 1\u001b[0m\n\u001b[0;32m----> 1\u001b[0m \u001b[43mnp\u001b[49m\u001b[38;5;241;43m.\u001b[39;49m\u001b[43mtesting\u001b[49m\u001b[38;5;241;43m.\u001b[39;49m\u001b[43massert_allclose\u001b[49m\u001b[43m(\u001b[49m\u001b[43mtorch_model\u001b[49m\u001b[38;5;241;43m.\u001b[39;49m\u001b[43mgraphnet\u001b[49m\u001b[38;5;241;43m.\u001b[39;49m\u001b[43memb_\u001b[49m\u001b[38;5;241;43m.\u001b[39;49m\u001b[43mcpu\u001b[49m\u001b[43m(\u001b[49m\u001b[43m)\u001b[49m\u001b[38;5;241;43m.\u001b[39;49m\u001b[43mnumpy\u001b[49m\u001b[43m(\u001b[49m\u001b[43m)\u001b[49m\u001b[43m,\u001b[49m\u001b[43m \u001b[49m\u001b[43mcmodel\u001b[49m\u001b[38;5;241;43m.\u001b[39;49m\u001b[43mget_emb\u001b[49m\u001b[43m(\u001b[49m\u001b[43m)\u001b[49m\u001b[43m,\u001b[49m\u001b[43m \u001b[49m\u001b[43mrtol\u001b[49m\u001b[38;5;241;43m=\u001b[39;49m\u001b[38;5;241;43m1e-5\u001b[39;49m\u001b[43m)\u001b[49m\n",
      "    \u001b[0;31m[... skipping hidden 1 frame]\u001b[0m\n",
      "File \u001b[0;32m~/.conda/envs/deepmet/lib/python3.10/contextlib.py:79\u001b[0m, in \u001b[0;36mContextDecorator.__call__.<locals>.inner\u001b[0;34m(*args, **kwds)\u001b[0m\n\u001b[1;32m     76\u001b[0m \u001b[38;5;129m@wraps\u001b[39m(func)\n\u001b[1;32m     77\u001b[0m \u001b[38;5;28;01mdef\u001b[39;00m \u001b[38;5;21minner\u001b[39m(\u001b[38;5;241m*\u001b[39margs, \u001b[38;5;241m*\u001b[39m\u001b[38;5;241m*\u001b[39mkwds):\n\u001b[1;32m     78\u001b[0m     \u001b[38;5;28;01mwith\u001b[39;00m \u001b[38;5;28mself\u001b[39m\u001b[38;5;241m.\u001b[39m_recreate_cm():\n\u001b[0;32m---> 79\u001b[0m         \u001b[38;5;28;01mreturn\u001b[39;00m \u001b[43mfunc\u001b[49m\u001b[43m(\u001b[49m\u001b[38;5;241;43m*\u001b[39;49m\u001b[43margs\u001b[49m\u001b[43m,\u001b[49m\u001b[43m \u001b[49m\u001b[38;5;241;43m*\u001b[39;49m\u001b[38;5;241;43m*\u001b[39;49m\u001b[43mkwds\u001b[49m\u001b[43m)\u001b[49m\n",
      "File \u001b[0;32m~/.conda/envs/deepmet/lib/python3.10/site-packages/numpy/testing/_private/utils.py:797\u001b[0m, in \u001b[0;36massert_array_compare\u001b[0;34m(comparison, x, y, err_msg, verbose, header, precision, equal_nan, equal_inf, strict)\u001b[0m\n\u001b[1;32m    793\u001b[0m         err_msg \u001b[38;5;241m+\u001b[39m\u001b[38;5;241m=\u001b[39m \u001b[38;5;124m'\u001b[39m\u001b[38;5;130;01m\\n\u001b[39;00m\u001b[38;5;124m'\u001b[39m \u001b[38;5;241m+\u001b[39m \u001b[38;5;124m'\u001b[39m\u001b[38;5;130;01m\\n\u001b[39;00m\u001b[38;5;124m'\u001b[39m\u001b[38;5;241m.\u001b[39mjoin(remarks)\n\u001b[1;32m    794\u001b[0m         msg \u001b[38;5;241m=\u001b[39m build_err_msg([ox, oy], err_msg,\n\u001b[1;32m    795\u001b[0m                             verbose\u001b[38;5;241m=\u001b[39mverbose, header\u001b[38;5;241m=\u001b[39mheader,\n\u001b[1;32m    796\u001b[0m                             names\u001b[38;5;241m=\u001b[39m(\u001b[38;5;124m'\u001b[39m\u001b[38;5;124mx\u001b[39m\u001b[38;5;124m'\u001b[39m, \u001b[38;5;124m'\u001b[39m\u001b[38;5;124my\u001b[39m\u001b[38;5;124m'\u001b[39m), precision\u001b[38;5;241m=\u001b[39mprecision)\n\u001b[0;32m--> 797\u001b[0m         \u001b[38;5;28;01mraise\u001b[39;00m \u001b[38;5;167;01mAssertionError\u001b[39;00m(msg)\n\u001b[1;32m    798\u001b[0m \u001b[38;5;28;01mexcept\u001b[39;00m \u001b[38;5;167;01mValueError\u001b[39;00m:\n\u001b[1;32m    799\u001b[0m     \u001b[38;5;28;01mimport\u001b[39;00m \u001b[38;5;21;01mtraceback\u001b[39;00m\n",
      "\u001b[0;31mAssertionError\u001b[0m: \nNot equal to tolerance rtol=1e-05, atol=0\n\nMismatched elements: 42 / 8544 (0.492%)\nMax absolute difference: 3.0517578e-05\nMax relative difference: 0.0010149\n x: array([[-1.496144, -2.618178,  1.397834, ..., -3.41971 , -5.633175,\n        -3.583886],\n       [ 5.387336, -9.104922,  2.471953, ...,  1.018879, -5.595757,...\n y: array([[-1.496144, -2.618177,  1.397833, ..., -3.41971 , -5.633175,\n        -3.583886],\n       [ 5.387336, -9.104922,  2.471954, ...,  1.018879, -5.595757,..."
     ]
    }
   ],
   "source": [
    "np.testing.assert_allclose(torch_model.graphnet.emb_.cpu().numpy(), cmodel.get_emb(), rtol=1e-5)"
   ]
  },
  {
   "cell_type": "code",
   "execution_count": 23,
   "metadata": {},
   "outputs": [
    {
     "ename": "AssertionError",
     "evalue": "\nNot equal to tolerance rtol=0.01, atol=0\n\nx and y -inf location mismatch:\n x: array([[ 50.80014 , -14.90132 , -14.460999, ..., -40.38353 , -26.757717,\n        -10.349055],\n       [ 21.010948, -15.40152 ,   9.094251, ..., -13.145414, -10.811636,...\n y: array([[ 50.80014 , -14.901326, -14.460999, ..., -40.383537, -26.75771 ,\n        -10.349054],\n       [ 21.010944, -15.40152 ,   9.094253, ..., -13.145413, -10.811638,...",
     "output_type": "error",
     "traceback": [
      "\u001b[0;31m---------------------------------------------------------------------------\u001b[0m",
      "\u001b[0;31mAssertionError\u001b[0m                            Traceback (most recent call last)",
      "Cell \u001b[0;32mIn[23], line 1\u001b[0m\n\u001b[0;32m----> 1\u001b[0m \u001b[43mnp\u001b[49m\u001b[38;5;241;43m.\u001b[39;49m\u001b[43mtesting\u001b[49m\u001b[38;5;241;43m.\u001b[39;49m\u001b[43massert_allclose\u001b[49m\u001b[43m(\u001b[49m\u001b[43mtorch_model\u001b[49m\u001b[38;5;241;43m.\u001b[39;49m\u001b[43mgraphnet\u001b[49m\u001b[38;5;241;43m.\u001b[39;49m\u001b[43memb1_\u001b[49m\u001b[38;5;241;43m.\u001b[39;49m\u001b[43mcpu\u001b[49m\u001b[43m(\u001b[49m\u001b[43m)\u001b[49m\u001b[38;5;241;43m.\u001b[39;49m\u001b[43mnumpy\u001b[49m\u001b[43m(\u001b[49m\u001b[43m)\u001b[49m\u001b[43m,\u001b[49m\u001b[43m \u001b[49m\u001b[43mcmodel\u001b[49m\u001b[38;5;241;43m.\u001b[39;49m\u001b[43mget_emb1\u001b[49m\u001b[43m(\u001b[49m\u001b[43m)\u001b[49m\u001b[43m,\u001b[49m\u001b[43m \u001b[49m\u001b[43mrtol\u001b[49m\u001b[38;5;241;43m=\u001b[39;49m\u001b[38;5;241;43m1e-2\u001b[39;49m\u001b[43m)\u001b[49m\n",
      "    \u001b[0;31m[... skipping hidden 1 frame]\u001b[0m\n",
      "File \u001b[0;32m~/.conda/envs/deepmet/lib/python3.10/contextlib.py:79\u001b[0m, in \u001b[0;36mContextDecorator.__call__.<locals>.inner\u001b[0;34m(*args, **kwds)\u001b[0m\n\u001b[1;32m     76\u001b[0m \u001b[38;5;129m@wraps\u001b[39m(func)\n\u001b[1;32m     77\u001b[0m \u001b[38;5;28;01mdef\u001b[39;00m \u001b[38;5;21minner\u001b[39m(\u001b[38;5;241m*\u001b[39margs, \u001b[38;5;241m*\u001b[39m\u001b[38;5;241m*\u001b[39mkwds):\n\u001b[1;32m     78\u001b[0m     \u001b[38;5;28;01mwith\u001b[39;00m \u001b[38;5;28mself\u001b[39m\u001b[38;5;241m.\u001b[39m_recreate_cm():\n\u001b[0;32m---> 79\u001b[0m         \u001b[38;5;28;01mreturn\u001b[39;00m \u001b[43mfunc\u001b[49m\u001b[43m(\u001b[49m\u001b[38;5;241;43m*\u001b[39;49m\u001b[43margs\u001b[49m\u001b[43m,\u001b[49m\u001b[43m \u001b[49m\u001b[38;5;241;43m*\u001b[39;49m\u001b[38;5;241;43m*\u001b[39;49m\u001b[43mkwds\u001b[49m\u001b[43m)\u001b[49m\n",
      "    \u001b[0;31m[... skipping hidden 1 frame]\u001b[0m\n",
      "File \u001b[0;32m~/.conda/envs/deepmet/lib/python3.10/site-packages/numpy/testing/_private/utils.py:688\u001b[0m, in \u001b[0;36massert_array_compare.<locals>.func_assert_same_pos\u001b[0;34m(x, y, func, hasval)\u001b[0m\n\u001b[1;32m    683\u001b[0m \u001b[38;5;28;01mif\u001b[39;00m bool_(x_id \u001b[38;5;241m==\u001b[39m y_id)\u001b[38;5;241m.\u001b[39mall() \u001b[38;5;241m!=\u001b[39m \u001b[38;5;28;01mTrue\u001b[39;00m:\n\u001b[1;32m    684\u001b[0m     msg \u001b[38;5;241m=\u001b[39m build_err_msg([x, y],\n\u001b[1;32m    685\u001b[0m                         err_msg \u001b[38;5;241m+\u001b[39m \u001b[38;5;124m'\u001b[39m\u001b[38;5;130;01m\\n\u001b[39;00m\u001b[38;5;124mx and y \u001b[39m\u001b[38;5;132;01m%s\u001b[39;00m\u001b[38;5;124m location mismatch:\u001b[39m\u001b[38;5;124m'\u001b[39m\n\u001b[1;32m    686\u001b[0m                         \u001b[38;5;241m%\u001b[39m (hasval), verbose\u001b[38;5;241m=\u001b[39mverbose, header\u001b[38;5;241m=\u001b[39mheader,\n\u001b[1;32m    687\u001b[0m                         names\u001b[38;5;241m=\u001b[39m(\u001b[38;5;124m'\u001b[39m\u001b[38;5;124mx\u001b[39m\u001b[38;5;124m'\u001b[39m, \u001b[38;5;124m'\u001b[39m\u001b[38;5;124my\u001b[39m\u001b[38;5;124m'\u001b[39m), precision\u001b[38;5;241m=\u001b[39mprecision)\n\u001b[0;32m--> 688\u001b[0m     \u001b[38;5;28;01mraise\u001b[39;00m \u001b[38;5;167;01mAssertionError\u001b[39;00m(msg)\n\u001b[1;32m    689\u001b[0m \u001b[38;5;66;03m# If there is a scalar, then here we know the array has the same\u001b[39;00m\n\u001b[1;32m    690\u001b[0m \u001b[38;5;66;03m# flag as it everywhere, so we should return the scalar flag.\u001b[39;00m\n\u001b[1;32m    691\u001b[0m \u001b[38;5;28;01mif\u001b[39;00m \u001b[38;5;28misinstance\u001b[39m(x_id, \u001b[38;5;28mbool\u001b[39m) \u001b[38;5;129;01mor\u001b[39;00m x_id\u001b[38;5;241m.\u001b[39mndim \u001b[38;5;241m==\u001b[39m \u001b[38;5;241m0\u001b[39m:\n",
      "\u001b[0;31mAssertionError\u001b[0m: \nNot equal to tolerance rtol=0.01, atol=0\n\nx and y -inf location mismatch:\n x: array([[ 50.80014 , -14.90132 , -14.460999, ..., -40.38353 , -26.757717,\n        -10.349055],\n       [ 21.010948, -15.40152 ,   9.094251, ..., -13.145414, -10.811636,...\n y: array([[ 50.80014 , -14.901326, -14.460999, ..., -40.383537, -26.75771 ,\n        -10.349054],\n       [ 21.010944, -15.40152 ,   9.094253, ..., -13.145413, -10.811638,..."
     ]
    }
   ],
   "source": [
    "np.testing.assert_allclose(torch_model.graphnet.emb1_.cpu().numpy(), cmodel.get_emb1(), rtol=1e-2)"
   ]
  },
  {
   "cell_type": "code",
   "execution_count": 25,
   "metadata": {},
   "outputs": [
    {
     "name": "stdout",
     "output_type": "stream",
     "text": [
      "(267, 32)\n",
      "(267, 32)\n"
     ]
    }
   ],
   "source": [
    "torch_emb1 = torch_model.graphnet.emb1_.cpu().numpy()\n",
    "c_emb1 = cmodel.get_emb1()\n",
    "print(torch_emb1.shape)\n",
    "print(c_emb1.shape)"
   ]
  },
  {
   "cell_type": "code",
   "execution_count": 26,
   "metadata": {},
   "outputs": [
    {
     "name": "stdout",
     "output_type": "stream",
     "text": [
      "c_emb1 has inf: True\n"
     ]
    }
   ],
   "source": [
    "print(\"c_emb1 has inf:\", np.isinf(c_emb1).any())"
   ]
  },
  {
   "cell_type": "code",
   "execution_count": 28,
   "metadata": {},
   "outputs": [
    {
     "name": "stdout",
     "output_type": "stream",
     "text": [
      "[[ 50.80014    -14.90132    -14.4609995  ... -40.38353    -26.757717\n",
      "  -10.349055  ]\n",
      " [ 21.010948   -15.40152      9.094251   ... -13.145414   -10.811636\n",
      "   -0.5771712 ]\n",
      " [ 20.654512   -11.478975     7.195159   ... -11.484139   -10.536681\n",
      "   -0.13062656]\n",
      " ...\n",
      " [  9.999883     0.4486767   -0.19843754 ...  -5.4074097   -7.0787883\n",
      "   -1.1682463 ]\n",
      " [ 10.504782     1.1126866    2.0058398  ...  -5.272686   -10.679102\n",
      "    2.0757022 ]\n",
      " [ 13.856306    47.9183       0.22565247 ...  12.416369   -10.4405775\n",
      "   14.771691  ]]\n"
     ]
    }
   ],
   "source": [
    "print(torch_emb1)"
   ]
  },
  {
   "cell_type": "code",
   "execution_count": 27,
   "metadata": {},
   "outputs": [
    {
     "name": "stdout",
     "output_type": "stream",
     "text": [
      "[[ 50.80014    -14.901326   -14.4609995  ... -40.383537   -26.75771\n",
      "  -10.349054  ]\n",
      " [ 21.010944   -15.40152      9.094253   ... -13.145413   -10.811638\n",
      "   -0.57717085]\n",
      " [ 20.65451    -11.478975     7.195159   ... -11.484137   -10.536682\n",
      "   -0.1306274 ]\n",
      " ...\n",
      " [  9.999885     0.44867814  -0.19843808 ...  -5.4074097   -7.0787888\n",
      "   -1.1682469 ]\n",
      " [ 10.504782     1.1126882    2.0058398  ...  -5.2726865  -10.679101\n",
      "    2.075703  ]\n",
      " [ 13.856305    47.918297     0.22565307 ...  12.416371   -10.44058\n",
      "   14.771691  ]]\n"
     ]
    }
   ],
   "source": [
    "print(c_emb1)"
   ]
  },
  {
   "cell_type": "code",
   "execution_count": 30,
   "metadata": {},
   "outputs": [
    {
     "name": "stdout",
     "output_type": "stream",
     "text": [
      "(array([ 24,  24,  24, ..., 262, 262, 262]), array([ 0,  1,  2, ..., 29, 30, 31]))\n"
     ]
    }
   ],
   "source": [
    "ar_inf = np.where(np.isinf(c_emb1))\n",
    "print(ar_inf)"
   ]
  },
  {
   "cell_type": "code",
   "execution_count": 31,
   "metadata": {},
   "outputs": [
    {
     "data": {
      "text/plain": [
       "-inf"
      ]
     },
     "execution_count": 31,
     "metadata": {},
     "output_type": "execute_result"
    }
   ],
   "source": [
    "c_emb1[24][0]"
   ]
  },
  {
   "cell_type": "code",
   "execution_count": null,
   "metadata": {},
   "outputs": [],
   "source": [
    "np.testing.assert_allclose(torch_model.graphnet.emb2_.cpu().numpy(), cmodel.get_emb2(), atol=1e-5)"
   ]
  },
  {
   "cell_type": "code",
   "execution_count": null,
   "metadata": {},
   "outputs": [],
   "source": [
    "# Calculate Euclidean distance\n",
    "arr1 = torch_model.graphnet.emb2_.cpu().numpy()\n",
    "arr2 = cmodel.get_emb2()\n",
    "print(arr1.shape)\n",
    "print(arr2.shape)\n",
    "# euclidean_distance = np.linalg.norm(torch_model.graphnet.emb2_.cpu().numpy() - cmodel.get_emb2())\n",
    "# print(\"Euclidean distance:\", euclidean_distance)\n",
    "\n",
    "mse = np.mean((arr1 - arr2) ** 2)\n",
    "print(\"Mean Squared Error:\", mse)"
   ]
  },
  {
   "cell_type": "code",
   "execution_count": null,
   "metadata": {},
   "outputs": [],
   "source": [
    "# Check if either array contains NaN or inf\n",
    "print(\"Array1 has NaN:\", np.isnan(arr1).any())\n",
    "print(\"Array1 has inf:\", np.isinf(arr1).any())\n",
    "print(\"Array2 has NaN:\", np.isnan(arr2).any())\n",
    "print(\"Array2 has inf:\", np.isinf(arr2).any())\n"
   ]
  },
  {
   "cell_type": "markdown",
   "metadata": {},
   "source": [
    "#### Test Final Result"
   ]
  },
  {
   "cell_type": "code",
   "execution_count": null,
   "metadata": {},
   "outputs": [],
   "source": [
    "np_results = results.detach().cpu().numpy()\n",
    "print(np_results)"
   ]
  },
  {
   "cell_type": "code",
   "execution_count": null,
   "metadata": {},
   "outputs": [],
   "source": [
    "np.testing.assert_allclose(np_results, cmodel.get_output(), rtol=1e-5)"
   ]
  },
  {
   "cell_type": "markdown",
   "metadata": {},
   "source": [
    "### Other Tests"
   ]
  },
  {
   "cell_type": "code",
   "execution_count": null,
   "metadata": {},
   "outputs": [],
   "source": [
    "import c_radius_graph\n",
    "\n",
    "# Example points in 2D space and their corresponding batch indices\n",
    "points = [[0.0, 0.0], [1.0, 1.0], [2.0, 2.0],  # Batch 0\n",
    "          [3.0, 3.0], [4.0, 4.0],              # Batch 1\n",
    "          [5.0, 5.0], [6.0, 6.0]]              # Batch 2\n",
    "batch_indices = [0, 0, 0, 1, 1, 2, 2]  # Batch assignments\n",
    "radius = 1.5"
   ]
  },
  {
   "cell_type": "code",
   "execution_count": null,
   "metadata": {},
   "outputs": [],
   "source": [
    "# Call the C++ function\n",
    "neighbors = c_radius_graph.find_neighbors_by_batch(points, batch_indices, radius)\n",
    "\n",
    "# Print neighbors\n",
    "for pair in neighbors:\n",
    "    print(f\"Point {pair[0]} is within radius of point {pair[1]}\")\n",
    "\n",
    "neighbors"
   ]
  },
  {
   "cell_type": "code",
   "execution_count": null,
   "metadata": {},
   "outputs": [],
   "source": [
    "points_tensor = torch.tensor(points)\n",
    "batch_tensor = torch.tensor(batch_indices)\n",
    "\n",
    "edge_index_pts = radius_graph(points_tensor, r=radius, batch=batch_tensor, loop=False, max_num_neighbors=255)"
   ]
  },
  {
   "cell_type": "code",
   "execution_count": null,
   "metadata": {},
   "outputs": [],
   "source": [
    "print(edge_index_pts)"
   ]
  },
  {
   "cell_type": "code",
   "execution_count": null,
   "metadata": {},
   "outputs": [],
   "source": [
    "# Example usage in Python\n",
    "import graphmetnetwork_bindings as gmn\n",
    "\n",
    "# Create an instance of the model\n",
    "model = gmn.GraphMetNetwork()\n",
    "\n",
    "# Load the weights\n",
    "model.load_weights(\"path_to_weights_file.txt\")\n",
    "\n",
    "# Now, you can run the model with input data\n",
    "for i, (x_cont, x_cat, edge_index, batch) in enumerate(dataloader):\n",
    "    num_nodes = x_cont.shape[0]\n",
    "\n",
    "    # Run the PyTorch model\n",
    "    with torch.no_grad():\n",
    "        output = torch_model(x_cont.squeeze(0), x_cat.squeeze(0), edge_index.squeeze(0), batch.squeeze(0))\n",
    "\n",
    "    # Run the C++ model\n",
    "    model.GraphMetNetworkLayer(x_cont.squeeze(0).numpy(), x_cat.squeeze(0).numpy(), num_nodes, batch.squeeze(0).numpy())\n",
    "\n",
    "    # Compare intermediate values as before\n",
    "    np.testing.assert_allclose(torch_model._emb_cont.numpy(), model.get_emb_cont(), rtol=1e-5)\n",
    "    np.testing.assert_allclose(torch_model._emb_chrg.numpy(), model.get_emb_chrg(), rtol=1e-5)\n",
    "    np.testing.assert_allclose(torch_model._emb_pdg.numpy(), model.get_emb_pdg(), rtol=1e-5)\n",
    "    np.testing.assert_allclose(torch_model._emb_cat.numpy(), model.get_emb_cat(), rtol=1e-5)\n",
    "    np.testing.assert_allclose(torch_model._emb.numpy(), model.get_emb(), rtol=1e-5)\n",
    "    np.testing.assert_allclose(torch_model._emb1.numpy(), model.get_emb1(), rtol=1e-5)\n",
    "    np.testing.assert_allclose(torch_model._emb2.numpy(), model.get_emb2(), rtol=1e-5)\n",
    "    np.testing.assert_allclose(output.numpy(), model.get_output(), rtol=1e-5)\n"
   ]
  }
 ],
 "metadata": {
  "kernelspec": {
   "display_name": "deepmet",
   "language": "python",
   "name": "python3"
  },
  "language_info": {
   "codemirror_mode": {
    "name": "ipython",
    "version": 3
   },
   "file_extension": ".py",
   "mimetype": "text/x-python",
   "name": "python",
   "nbconvert_exporter": "python",
   "pygments_lexer": "ipython3",
   "version": "3.10.12"
  }
 },
 "nbformat": 4,
 "nbformat_minor": 2
}
